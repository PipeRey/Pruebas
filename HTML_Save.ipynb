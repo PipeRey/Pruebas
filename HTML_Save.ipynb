{
  "nbformat": 4,
  "nbformat_minor": 0,
  "metadata": {
    "colab": {
      "name": "HTML_Save.ipynb",
      "provenance": [],
      "collapsed_sections": []
    },
    "kernelspec": {
      "name": "python3",
      "display_name": "Python 3"
    },
    "language_info": {
      "name": "python"
    }
  },
  "cells": [
    {
      "cell_type": "code",
      "metadata": {
        "id": "a0yIFUIe09CM"
      },
      "source": [
        "#### modulos para graficas####\n",
        "import plotly.graph_objects as go\n",
        "import plotly.express as px\n",
        "from plotly.offline import download_plotlyjs, init_notebook_mode, plot, iplot\n",
        "import plotly.io as pio\n",
        "##############################\n",
        "\n",
        "#### modulos para bases de datos###\n",
        "import numpy as np\n",
        "import pandas as pd\n",
        "###################################\n",
        "\n",
        "#### modulo para generar el html####\n",
        "from IPython.display import HTML\n",
        "####################################\n",
        "\n",
        "### modulo para base numerica de 64 ###\n",
        "import base64\n",
        "#######################################\n",
        "\n",
        "#### modulos para fechas####\n",
        "from datetime import datetime, timedelta\n",
        "import time\n",
        "############################"
      ],
      "execution_count": null,
      "outputs": []
    },
    {
      "cell_type": "code",
      "metadata": {
        "id": "BSuS3WLZ6_3H",
        "colab": {
          "base_uri": "https://localhost:8080/"
        },
        "outputId": "3c15327a-c654-4bdb-b5fe-cc9dd4fa830c"
      },
      "source": [
        "#### podemos cargar imagenes desde nuestro drive a Colab\n",
        "from google.colab import drive\n",
        "\n",
        "drive.mount('/content/gdrive')\n",
        "### accedemos al link y le damos permiso###\n",
        "# una ves drive quede montado en la pestaña de archivos buscamos la imagen que queramos utilizar\n",
        "# y copiamos su ruta de acceso en este caso usare una imagen de premex"
      ],
      "execution_count": null,
      "outputs": [
        {
          "output_type": "stream",
          "name": "stdout",
          "text": [
            "Mounted at /content/gdrive\n"
          ]
        }
      ]
    },
    {
      "cell_type": "code",
      "metadata": {
        "colab": {
          "base_uri": "https://localhost:8080/"
        },
        "id": "geKUKoeQYFOY",
        "outputId": "97632aa9-0178-4208-bba0-2055b660f9fe"
      },
      "source": [
        "from google.colab import drive\n",
        "drive.mount('/content/drive')"
      ],
      "execution_count": null,
      "outputs": [
        {
          "output_type": "stream",
          "name": "stdout",
          "text": [
            "Mounted at /content/drive\n"
          ]
        }
      ]
    },
    {
      "cell_type": "code",
      "metadata": {
        "id": "8iCA3XlH6osj"
      },
      "source": [
        "#### Se abre la imagen, y se lee como arhicvo de imagen y se encode en base 64 \n",
        "with open(\"/content/gdrive/MyDrive/premexlogo.jpeg\", \"rb\") as image_file:\n",
        "    encoded_string = base64.b64encode(image_file.read()).decode()\n",
        "#### se le pasa la imagen encodeada y se le agrega el tipo de imagen en este caso png\n",
        "encoded_image = \"data:image/png;base64,\" + encoded_string"
      ],
      "execution_count": null,
      "outputs": []
    },
    {
      "cell_type": "code",
      "metadata": {
        "colab": {
          "base_uri": "https://localhost:8080/",
          "height": 542
        },
        "id": "ow20ZTO41QPh",
        "outputId": "0b42c42e-d4e4-4334-f017-8e05ee75d5d2"
      },
      "source": [
        "### creemos una grafica al azar para guardar en un archivo HTML####\n",
        "### Crear un array de datos\n",
        "x = np.arange(10)\n",
        "fig = go.Figure()\n",
        "fig.add_trace(go.Scatter(x=x, y=x*x, name='Linea',\n",
        "                         line=dict(color='firebrick', width=4)))\n",
        "#### agregamos una imagen y agregmos la imagen encodeada\n",
        "fig.update_layout(title='Grafica Prueba',\n",
        "                   xaxis_title='X',\n",
        "                   yaxis_title='Y',\n",
        "                   images = [\n",
        "                   dict(\n",
        "                   source=encoded_image,\n",
        "                   xref=\"paper\", yref=\"paper\",\n",
        "                   x=.9, y=1,\n",
        "                   sizex=0.2, sizey=0.2,\n",
        "                   xanchor=\"right\", yanchor=\"bottom\"\n",
        "                  )\n",
        "                ]\n",
        "              )\n",
        "fig.show()"
      ],
      "execution_count": null,
      "outputs": [
        {
          "output_type": "display_data",
          "data": {
            "text/html": [
              "<html>\n",
              "<head><meta charset=\"utf-8\" /></head>\n",
              "<body>\n",
              "    <div>\n",
              "            <script src=\"https://cdnjs.cloudflare.com/ajax/libs/mathjax/2.7.5/MathJax.js?config=TeX-AMS-MML_SVG\"></script><script type=\"text/javascript\">if (window.MathJax) {MathJax.Hub.Config({SVG: {font: \"STIX-Web\"}});}</script>\n",
              "                <script type=\"text/javascript\">window.PlotlyConfig = {MathJaxConfig: 'local'};</script>\n",
              "        <script src=\"https://cdn.plot.ly/plotly-latest.min.js\"></script>    \n",
              "            <div id=\"4a87f155-7ae8-4833-bd60-8bff57e9b841\" class=\"plotly-graph-div\" style=\"height:525px; width:100%;\"></div>\n",
              "            <script type=\"text/javascript\">\n",
              "                \n",
              "                    window.PLOTLYENV=window.PLOTLYENV || {};\n",
              "                    \n",
              "                if (document.getElementById(\"4a87f155-7ae8-4833-bd60-8bff57e9b841\")) {\n",
              "                    Plotly.newPlot(\n",
              "                        '4a87f155-7ae8-4833-bd60-8bff57e9b841',\n",
              "                        [{\"line\": {\"color\": \"firebrick\", \"width\": 4}, \"name\": \"Linea\", \"type\": \"scatter\", \"x\": [0, 1, 2, 3, 4, 5, 6, 7, 8, 9], \"y\": [0, 1, 4, 9, 16, 25, 36, 49, 64, 81]}],\n",
              "                        {\"images\": [{\"sizex\": 0.2, \"sizey\": 0.2, \"source\": \"data:image/png;base64,/9j/4AAQSkZJRgABAQAAAQABAAD/2wCEAAkGBxAPDxUPDRIPEBAQDxAQDxAQDw8QFhUQFhYWFhUVFRgYHSggGBomGxUXITEhJSktMC4uFx82OD8sNyotLisBCgoKDg0OGxAQGi0lICUtKyswLS0tLS0tNS0tLS0tLS0uLS0tLS0vLS0rNSsvKy4tLS0uLS0tLS0tLS0tLystLf/AABEIAMgAyAMBEQACEQEDEQH/xAAcAAEAAQUBAQAAAAAAAAAAAAAAAgEDBQYHBAj/xABFEAABAwIDBQQGBgcGBwAAAAABAAIDBBEFEiEGEzFBYQdRcYEUIjKRobFSYnJ0ssEVJDNCc4LRFiMlNJKiJkODk7PS8P/EABoBAQACAwEAAAAAAAAAAAAAAAABAgMEBQb/xAAxEQEAAgECBQEECgMBAAAAAAAAAQIDBBEFEiExQRNRYXGBFCIyMzSRobHR8CNC8cH/2gAMAwEAAhEDEQA/AO4oCAgICAgICAgICAgICAgICAgICAgICAgICAgICAgICAgICAgICAgICAgICAgICAgICAgICAgICAgICAgICAgICAgICAgICAgICAgICAgICAgICAghLK1gzPc1rRxc4gAeJKmImZ2hW1orG8zs13EduKKG4a50zhyibcf6jYe5buPh+a/eNvi5+Xiunp0id/g1uv7SpbH0eCNp5GV7ne8Nt81t14XH+1mlbjU79KdPi1ir7S8UzEXgj6Nhv7i4lZI4fijvv+bJHEb2jeNlpvaXig4yQnxgZ+Sn6Bh9n6p+nZHtpO1euZ+1jppR9l8Z94JHwWO3Dsc9plevEL+YhsuF9rFK/SqilgP0m2mb52s74LWvw68fZnf9GxTX0n7UbN2wvF6eqbnpZY5W88jgSPtDiPNaN8d6TtaNm5TJW8b1l7VRcQEBAQEBAQEBAQEBAQEEJpWsaXvcGtaLuc4gADqSprWbTtCtrRWN7TtDSsc2+a27KJoeeG9eCG/yt4nzsurg4ZM9ck7e5w9Vxqtfq4Y3989vyaNiWKzVDs08jpDyBOg8GjQLrY8NMcbUjZws2oy5p3yW3eBxWRjhacoXhZniDxY+R7lE9WSl5rPRjZYS02PkVVuVvFo3hbyqFtwsQ3XKWeSF4kge+ORvB7HFp94VbVi0bTC9ck1neJdJ2T7TyCIcTFxoBUsbw/iNHzb7lzNRw/zj/J08Gv8AGT83UKedsjQ+NzXscAWuaQ4Ed4I4rlTExO0unExMbwuKEiAgICAgICAgICAgxePY7DRMzSm7jfJGLZnH8h1Wxp9NfNO1fzauq1mPT13t38R5csx3aGetdeQ5WA+pE0nKPH6R6leg0+lphj6vf2vJ6vW5dRP1p6ezwxBcthqbIFyhbZAuRbZElFkSoStTMBFikr0ttLxOZY2Kq2IndTKid1C1E7olqJiWz7FbYS4c/I68lM4+vFfVp5vj7j04H4rU1OlrmjftLc02rtinbvDuFDWRzxtmhcHxvbma4cx/XouBek0ma27u9S8XrFq9l9VWEBAQEBAQEBAQYLaraSOgjubPmeDuo78frO7mj48FtaXS2z293mWnrNZXT09s+I/vhyHEMRkqJDLM4ve46k8hyAHIdF6LHjrjry1jo8llyXy2m953lYDldi2C5DZbLkX2RLlCdlMyJ2UuhsoSiViVt1EslZWrKF91LIndQtQ3RLUW3bl2dbVGjl3E7v1aV2t/+XIdA/oDwPv5LR1um9WvNXvDe0Wq9K3Lb7Mu0grgvQCAgICAgICAgxm0OMx0NO6eXW2jGc3yHg0f/aAFZsGG2W8Vhhz564aTaXD8SxKWqmdNO7M95v0A5Nb3AL0mLHXHWK1eTzZLZbza3dYBWRgmFwOUqzChchstkqFohElFtjMhsXQ2UuidkXKEwt2RdSyBZDdEhQlSyJdm7M8e9JpdxIby09m3J1dEfYPlbL5DvXC1+DkvzR2n93oOHaj1MfLPeP2bktB0BAQEBAQEAlBw/bvaE11UQw/3EJLIRyP0pPMj3AL0Oj0/pU6957vNa7UerfaO0NfaVuOfKYKlXZMFFdkS5E7IEotsiSoW2UuhsrdDYuhsiSiYhC+qhZNSqIKWRKNkSz2xOK+iV0chNmPdupfsPsLnwNj5LW1eL1MUx82zo83pZYnx2l3hebeoEBAQEBAQar2j4x6LQuaw2kqDuWW4gEeu7ybceJC3NDi9TL17R1aWuzeninbvPRxRq9C81K4EVlIFSqrdEKEolElQsiUSjdEmZDZTMhsoXKE7IOKLRC803ClSe6qIEFLICJd/2Vr/AEmihmOrnRNDz9dvqu+IK8xqMfJltV6vTZPUxVt7mVWFnEBAQEBBx/tZxAyVrYQfVgiFx9d/rH4ZV3OHY9sc29suDxPJvkivsaUF0XLlIIhIFFVSVIoSoSiUSiUSiSoSiSi2yJcidkC5FtlMyg2einOnmphjvHVcUqCAgIOt9ltc0Ye8PNhBM+510YQHfMlcPiNJ9aNvMPQcMyR6M7+JbRhmMQ1JcIiczDq1wse758uIWlkxWp3b2PNW/ZkFjZRAQEBB8/7Yz7zEal3H9Ye0eDPUH4V6XS12w1j3PMau3NmtPvYgFZ2qmCpQqCiHrwyhkqZmQQi75HZW34d5J6AXPkqZMkUrNrdoXxYrZLRWveW4TbJ4ZA7dVeIZZhbM1rWgNJ5HQ28ytCNXnvHNTH0dKdFp6Ty3ydWD2s2ZdQFjmvE0EwvFK0AX52NtOBBBHFbGm1MZt4mNpjvDW1OknDMTE7xPaWZ/sZR08TDidZuJpWZhG0D1fHQk279Atf6ZkvafSpvENr6DipWPVvtMvDhGyEJphWYhUimp3uIhs0Zni5AOvC9rgAE2V8urtz+njrvPlTFo68nqZLbR4VxPY+nfTPqsLqvSmwC8sbmgODbXJHDlc2I1sVFNXeLxTLXbda+jpNJvitvs8OyuyjauGSrqpxTUkJyukIBJdpe19ANRrrqbK+o1U47RSsbzKNPpYyVm9p2iGVZsFS1gvhNc2Yse0StkAu1pPtCwB79La24rBOtvj+9psz/QqX+7turDsXhcr/RoMSzVOrQMrC0vHEAc+HAOSdXnrHNanRP0TDM8sX6tew7ZqofXOw/1RKx5D3XOUNAuX+FrEeIW3OppGL1fDQnS3tl9Py2h+y2FMfuH4iRODkPqtDQ/hY6WGv1lrfStRMc0Y+jYnSaaJ5Jydf7/AHuxzNkd3iIoKuXdiRpMEzGgh5PsixOl7EeI6rLOr5sPq0jfbvDDGj5c/pXnbftLE1uBzRVhorZpd4GMtoHZvZcOhGvTVZ6Z62x+p4a99PeuX0vL07W4JHQytgZKZpN2HTeqGhrjwA8tfcqabNbNWbTG0eF9VgrhtFYnefLbOyaMSQ1UTr5SYuBsRcOFx10C0uJTy2paPe6HCvrVvWfd/wCt3wjBWUxJDi4uzcg0DMQXGw/ecQCT0HBc7Jmm7p4sMUZRYWYQEBAQfO+0n+eqfvU//kcvT4Puq/CP2eWz/e2+M/uxwKysCQKISBUobZ2Ya4mzpHMR/pt+a0eIfcT8m/w2P88fNg9oXH02ove/pU/H7blsYPuq/CP2a2f723xn923Y2f8AAqC/Hfstfu/vPyWji/FZPh/Do5vwuP4/y8/a+f12P7q38b1bhv3U/FXif3sfD+WbxkYf+jqD9JGcN3Dd1uL8d2zNmt5fFa+P1vWyent38/FtZIw+jj9Tft4+TF4fjuDUUc/ohqy+aF0ZbI1xB0OXjoNTxWW+HU5Jrz7dJY6ZdPjieTfrDxA22XP3sX/7gVp/GfIj8J80exxx9JqfuZ/GE4j9mvxToPtT8GrbIuP6QpfvUP4gtrUfdW+EtXB95X4w6phI/wCJKv7qz8MS5eT8HX4/y6FPxlvh/DXpW4BmOY118zr+1xub8u9bkfTNvDRmNFv13eXbLGY66opxQb1xjY2JhLS15fmGW3O+g17yr6XDbFS3qbderHq81c16xj36dG8UEzG1cMde6B2KejuEb2McGhpHsvN7F59bgBpmtxXOvEzjmce/Ju6dJiMlYybept/fm5TjsczKqVtVrNvXbw97jrcdCLW6WXawzWaRydnBzxeMkxfu3zsdbpUnrAPxrm8U/wBfn/46nCI+38v/AF0lcl2RAQEBAQfP23UO5xSpYdA6XeD/AKjQ75kr0Wjtvhq89rce2WWGW00VUFbohtvZaf8AE2fwpvwrS4h9zPyb/Dvvo+bK4rj2DvqJTW0UhnZNIxzoneq/I4tDjZ7dTbuWDHh1MUjkv028/wDGxkzaabzz067+P+w1/azav010TIY9zTU9t1FcX5C5toNBYDlqtnT6b0omZneZ8tbUan1ZiKxtEeFrbjaNmI1DZomPja2FsdnlpNw5xJ05aqdLgnDSazPk1eeM14tEeGQwXbGm9EbRYpTmohiP909hGZo1sLEjUXtcHgsWXS35/UxW2mWbFqqen6eWu8Qt4njeCiCRlHQyb17HNa+V3sOIsHC73G446JTFqeaJvfp7v+Jtl0/LMUp19/8A1jP7SR/og4dkfvDUb3eXbly5s3jfksnoT6/q79NlYzR6Pp7I7C7SR4dLLJKx8glpzEAwtBDrggm/JNVgnLERE9pTp80YpmZ9jEYJWinqYZ3AuEM0chaLAkNcCQLrNkrzUmvthhx25bRb2Npk2vP6TdiVMwta/K3dyEXdGGNYQSOF7X6aLBXSxOD0rSnLq5jUepVmJsfwSZxlmoZhK4lzwwgNLuZ0eAfcsUYNVWOWt42/vuZLajSWnmtSd/773kodpKCGt9KipHMZHDkgja5v7W5vI6/A2NuavfT5rYuSb+evw9jHTU4a5eeKdo6fH2tcq8VmlqTVOcRMZN4HD91wPq26CwA8Ft1xVrTk8dmnbLa2T1N+vdldrsfir91K2J0dQ1mSc3bldbhbnxvx5FYNNgth3rvvHhn1eorn2tttPlu3ZDCRTTP+lOGj+Vg/9locTn68R7nR4VH+OZ97fVzHVEBAQEBByDtowzLUQ1QHqyxmJ5+uw3F/Frv9q7HDcm9Zp7HK4hTaYs5/E/kfJdNybV8rqlQuiGS2exp9DUNqI2te5rXNyvvYhwtyWHPijLTllnwZpxX5oY+uqjLK+V1g6SR8hA4AuJcQOmqyVry1iseFbTzWm0+XmLlJsjmROyhcidkSVCUCiyiCoQZCMWAHcFZq2ned0rogupQXQVCDuHZ1SbrDYr8ZM8p/mJt/tAXnddfmzT7uj0mgpy4I9/Vsy1G6ICAgICDXtu8E9OoZImi8jRvYf4jLkDzF2+a2NLl9LJE+GDU4vUxzD5/AXo3nJ6SuNdyKKzHsSKlVBxULQtuKLxC2SoW2Ruidi6AiVCgogu07bnoNVKt52h67qWuXQVuhsXQemgpnTSsiZq6R7WN8XG35qtrRWs2nwVrNrRWPL6KpIGxRtjZ7MbGsb4NAA+S8va02mZny9bSsVrFY8LyqsICAgICAg4r2m7OeiVXpMQtBUuLtBoybi5vQH2h59y7ugz89OWe8fs4fEMHJbnjtLTixb7mxKPBQt3W3FFohbcUXhbJULKIkRAgIKgIPVGLC3vUww2neUrqVdlboF0FWoiW/dlOD72pNS4epTj1esrhYe5tz5hc/iOXlx8kef2b/AA3DzZOee0fu66uG74gICAgICAg8OM4XFWQPp5xdjxa/NruTm9xB1WTFktjtFqqZMcZKzWXBsbweWindTzjVurXDg9h4Ob0+RuF6PDlrlpzVeX1GG2K/LLHuYsrDFll7FDLFnnexGWJhbKhZRARIgIL0bbeKljtO65dFNi6Gyt0NgFSh6qOndK9scYLnvcGtaOJcdAFE2isbyrtNp2h3/ZfBm0NKyBti4DNK4fvSH2j+Q6ALzWozTlyTZ6fTYYw44r/d2WWFnEBAQEBAQEBBg9q9m4sQhyP9WRlzDLbVru497TzC2NNqLYbbx28w1tTpq567T38S4pieGy0sroKhpa9vuI5OaeYPevRY8lcleavZ5jLjtitNbR1eJzFdSJWHxqGWLLD4lGzLF1osULxMI2RKiCbdERKWZSrsrmQ2MyGyoKIXY2qVJl1vsy2UMTRW1LbPc39XYRq1h4vPUjh08Vx9fqub/HX5/wAOtw/S8v8Alv38fy6GuW6wgICAgICAgICAgxG0Wz0FfHkmFnC+7lbbMw9O8d4WfBqL4bb1/JranS0z12t38S4/tFs1UUL7TNuwn1JW3LXf0PQrv4NRTNH1e/seb1GmyYJ2tHT2+GEc1Z2CJW3MULxKy6NF4s88th4qGau8rdlC26QYpRuru+qHMruj0RHPCQgPRNkc8LrIO8qdlJyOk7AbDZy2rrW2jFnQwuGr+5zx9HuHPw48zWa3l+pSevmXS0Wim0+pkjp4h1RcZ2hAQEBAQEBAQEBAQEFuogZI0ska17HCzmuAII6gqa2ms7wrasWja0bw0HaLs4a68lA4MPHcvJy/yu4jwPwXUwcSmOmT83I1HConrin5T/LnWM4dNRuy1Ub4jyzDR32SND711KZaXjes7uVbT5aTtauzCS1BdoNB8VbdlrjiO60AoX3SAUq7pgIrMpgIiZTAUqTL34Xhk1S/d08bpH9zRw6uPBo6lUvkrSN7TstTHfJO1Y3dS2T7PY6ciatyzSixbGNY2Hrf2z8PmuPqdfa/1adI/V2dNw6tPrZOs/o3tc50xAQEBAQEBAQEBAQEBAQEFueBkjSyRrXtPFr2hwPiCpiZid4RMRPSWp4t2bYdPcsY6ncecDsov9g3b7rLbx67LXvO/wAWrfR4reNvg1at7I5R/l6mNw5CWNzD723+S268Tr/tX8mrbh0/62Yp/ZjiINgKd3UTW+YWaOIYff8AkwToMvuQb2bYne27iHXfx2/qrfT8Pt/RX6Bm9jIUnZZWOsZZaeMEagF8hHuAHxWO3EscdolevDck95hs2FdmFJHY1D5Kgj939kz3DX4rVycRyW+zG36tnHw3HH2p3/RudFQxQMEcEbI2D91jQ0fDiVoXva872nd0KUrSNqxs9CqsICAgICAgICAgICAgICAgICAgICAgICAgICAgICAgICAgICAgICAgICAgICAgICAgICAgICAgICAgICAgICAgICAgICAgICAgICAgICAgICAgIP/Z\", \"x\": 0.9, \"xanchor\": \"right\", \"xref\": \"paper\", \"y\": 1, \"yanchor\": \"bottom\", \"yref\": \"paper\"}], \"template\": {\"data\": {\"bar\": [{\"error_x\": {\"color\": \"#2a3f5f\"}, \"error_y\": {\"color\": \"#2a3f5f\"}, \"marker\": {\"line\": {\"color\": \"#E5ECF6\", \"width\": 0.5}}, \"type\": \"bar\"}], \"barpolar\": [{\"marker\": {\"line\": {\"color\": \"#E5ECF6\", \"width\": 0.5}}, \"type\": \"barpolar\"}], \"carpet\": [{\"aaxis\": {\"endlinecolor\": \"#2a3f5f\", \"gridcolor\": \"white\", \"linecolor\": \"white\", \"minorgridcolor\": \"white\", \"startlinecolor\": \"#2a3f5f\"}, \"baxis\": {\"endlinecolor\": \"#2a3f5f\", \"gridcolor\": \"white\", \"linecolor\": \"white\", \"minorgridcolor\": \"white\", \"startlinecolor\": \"#2a3f5f\"}, \"type\": \"carpet\"}], \"choropleth\": [{\"colorbar\": {\"outlinewidth\": 0, \"ticks\": \"\"}, \"type\": \"choropleth\"}], \"contour\": [{\"colorbar\": {\"outlinewidth\": 0, \"ticks\": \"\"}, \"colorscale\": [[0.0, \"#0d0887\"], [0.1111111111111111, \"#46039f\"], [0.2222222222222222, \"#7201a8\"], [0.3333333333333333, \"#9c179e\"], [0.4444444444444444, \"#bd3786\"], [0.5555555555555556, \"#d8576b\"], [0.6666666666666666, \"#ed7953\"], [0.7777777777777778, \"#fb9f3a\"], [0.8888888888888888, \"#fdca26\"], [1.0, \"#f0f921\"]], \"type\": \"contour\"}], \"contourcarpet\": [{\"colorbar\": {\"outlinewidth\": 0, \"ticks\": \"\"}, \"type\": \"contourcarpet\"}], \"heatmap\": [{\"colorbar\": {\"outlinewidth\": 0, \"ticks\": \"\"}, \"colorscale\": [[0.0, \"#0d0887\"], [0.1111111111111111, \"#46039f\"], [0.2222222222222222, \"#7201a8\"], [0.3333333333333333, \"#9c179e\"], [0.4444444444444444, \"#bd3786\"], [0.5555555555555556, \"#d8576b\"], [0.6666666666666666, \"#ed7953\"], [0.7777777777777778, \"#fb9f3a\"], [0.8888888888888888, \"#fdca26\"], [1.0, \"#f0f921\"]], \"type\": \"heatmap\"}], \"heatmapgl\": [{\"colorbar\": {\"outlinewidth\": 0, \"ticks\": \"\"}, \"colorscale\": [[0.0, \"#0d0887\"], [0.1111111111111111, \"#46039f\"], [0.2222222222222222, \"#7201a8\"], [0.3333333333333333, \"#9c179e\"], [0.4444444444444444, \"#bd3786\"], [0.5555555555555556, \"#d8576b\"], [0.6666666666666666, \"#ed7953\"], [0.7777777777777778, \"#fb9f3a\"], [0.8888888888888888, \"#fdca26\"], [1.0, \"#f0f921\"]], \"type\": \"heatmapgl\"}], \"histogram\": [{\"marker\": {\"colorbar\": {\"outlinewidth\": 0, \"ticks\": \"\"}}, \"type\": \"histogram\"}], \"histogram2d\": [{\"colorbar\": {\"outlinewidth\": 0, \"ticks\": \"\"}, \"colorscale\": [[0.0, \"#0d0887\"], [0.1111111111111111, \"#46039f\"], [0.2222222222222222, \"#7201a8\"], [0.3333333333333333, \"#9c179e\"], [0.4444444444444444, \"#bd3786\"], [0.5555555555555556, \"#d8576b\"], [0.6666666666666666, \"#ed7953\"], [0.7777777777777778, \"#fb9f3a\"], [0.8888888888888888, \"#fdca26\"], [1.0, \"#f0f921\"]], \"type\": \"histogram2d\"}], \"histogram2dcontour\": [{\"colorbar\": {\"outlinewidth\": 0, \"ticks\": \"\"}, \"colorscale\": [[0.0, \"#0d0887\"], [0.1111111111111111, \"#46039f\"], [0.2222222222222222, \"#7201a8\"], [0.3333333333333333, \"#9c179e\"], [0.4444444444444444, \"#bd3786\"], [0.5555555555555556, \"#d8576b\"], [0.6666666666666666, \"#ed7953\"], [0.7777777777777778, \"#fb9f3a\"], [0.8888888888888888, \"#fdca26\"], [1.0, \"#f0f921\"]], \"type\": \"histogram2dcontour\"}], \"mesh3d\": [{\"colorbar\": {\"outlinewidth\": 0, \"ticks\": \"\"}, \"type\": \"mesh3d\"}], \"parcoords\": [{\"line\": {\"colorbar\": {\"outlinewidth\": 0, \"ticks\": \"\"}}, \"type\": \"parcoords\"}], \"pie\": [{\"automargin\": true, \"type\": \"pie\"}], \"scatter\": [{\"marker\": {\"colorbar\": {\"outlinewidth\": 0, \"ticks\": \"\"}}, \"type\": \"scatter\"}], \"scatter3d\": [{\"line\": {\"colorbar\": {\"outlinewidth\": 0, \"ticks\": \"\"}}, \"marker\": {\"colorbar\": {\"outlinewidth\": 0, \"ticks\": \"\"}}, \"type\": \"scatter3d\"}], \"scattercarpet\": [{\"marker\": {\"colorbar\": {\"outlinewidth\": 0, \"ticks\": \"\"}}, \"type\": \"scattercarpet\"}], \"scattergeo\": [{\"marker\": {\"colorbar\": {\"outlinewidth\": 0, \"ticks\": \"\"}}, \"type\": \"scattergeo\"}], \"scattergl\": [{\"marker\": {\"colorbar\": {\"outlinewidth\": 0, \"ticks\": \"\"}}, \"type\": \"scattergl\"}], \"scattermapbox\": [{\"marker\": {\"colorbar\": {\"outlinewidth\": 0, \"ticks\": \"\"}}, \"type\": \"scattermapbox\"}], \"scatterpolar\": [{\"marker\": {\"colorbar\": {\"outlinewidth\": 0, \"ticks\": \"\"}}, \"type\": \"scatterpolar\"}], \"scatterpolargl\": [{\"marker\": {\"colorbar\": {\"outlinewidth\": 0, \"ticks\": \"\"}}, \"type\": \"scatterpolargl\"}], \"scatterternary\": [{\"marker\": {\"colorbar\": {\"outlinewidth\": 0, \"ticks\": \"\"}}, \"type\": \"scatterternary\"}], \"surface\": [{\"colorbar\": {\"outlinewidth\": 0, \"ticks\": \"\"}, \"colorscale\": [[0.0, \"#0d0887\"], [0.1111111111111111, \"#46039f\"], [0.2222222222222222, \"#7201a8\"], [0.3333333333333333, \"#9c179e\"], [0.4444444444444444, \"#bd3786\"], [0.5555555555555556, \"#d8576b\"], [0.6666666666666666, \"#ed7953\"], [0.7777777777777778, \"#fb9f3a\"], [0.8888888888888888, \"#fdca26\"], [1.0, \"#f0f921\"]], \"type\": \"surface\"}], \"table\": [{\"cells\": {\"fill\": {\"color\": \"#EBF0F8\"}, \"line\": {\"color\": \"white\"}}, \"header\": {\"fill\": {\"color\": \"#C8D4E3\"}, \"line\": {\"color\": \"white\"}}, \"type\": \"table\"}]}, \"layout\": {\"annotationdefaults\": {\"arrowcolor\": \"#2a3f5f\", \"arrowhead\": 0, \"arrowwidth\": 1}, \"coloraxis\": {\"colorbar\": {\"outlinewidth\": 0, \"ticks\": \"\"}}, \"colorscale\": {\"diverging\": [[0, \"#8e0152\"], [0.1, \"#c51b7d\"], [0.2, \"#de77ae\"], [0.3, \"#f1b6da\"], [0.4, \"#fde0ef\"], [0.5, \"#f7f7f7\"], [0.6, \"#e6f5d0\"], [0.7, \"#b8e186\"], [0.8, \"#7fbc41\"], [0.9, \"#4d9221\"], [1, \"#276419\"]], \"sequential\": [[0.0, \"#0d0887\"], [0.1111111111111111, \"#46039f\"], [0.2222222222222222, \"#7201a8\"], [0.3333333333333333, \"#9c179e\"], [0.4444444444444444, \"#bd3786\"], [0.5555555555555556, \"#d8576b\"], [0.6666666666666666, \"#ed7953\"], [0.7777777777777778, \"#fb9f3a\"], [0.8888888888888888, \"#fdca26\"], [1.0, \"#f0f921\"]], \"sequentialminus\": [[0.0, \"#0d0887\"], [0.1111111111111111, \"#46039f\"], [0.2222222222222222, \"#7201a8\"], [0.3333333333333333, \"#9c179e\"], [0.4444444444444444, \"#bd3786\"], [0.5555555555555556, \"#d8576b\"], [0.6666666666666666, \"#ed7953\"], [0.7777777777777778, \"#fb9f3a\"], [0.8888888888888888, \"#fdca26\"], [1.0, \"#f0f921\"]]}, \"colorway\": [\"#636efa\", \"#EF553B\", \"#00cc96\", \"#ab63fa\", \"#FFA15A\", \"#19d3f3\", \"#FF6692\", \"#B6E880\", \"#FF97FF\", \"#FECB52\"], \"font\": {\"color\": \"#2a3f5f\"}, \"geo\": {\"bgcolor\": \"white\", \"lakecolor\": \"white\", \"landcolor\": \"#E5ECF6\", \"showlakes\": true, \"showland\": true, \"subunitcolor\": \"white\"}, \"hoverlabel\": {\"align\": \"left\"}, \"hovermode\": \"closest\", \"mapbox\": {\"style\": \"light\"}, \"paper_bgcolor\": \"white\", \"plot_bgcolor\": \"#E5ECF6\", \"polar\": {\"angularaxis\": {\"gridcolor\": \"white\", \"linecolor\": \"white\", \"ticks\": \"\"}, \"bgcolor\": \"#E5ECF6\", \"radialaxis\": {\"gridcolor\": \"white\", \"linecolor\": \"white\", \"ticks\": \"\"}}, \"scene\": {\"xaxis\": {\"backgroundcolor\": \"#E5ECF6\", \"gridcolor\": \"white\", \"gridwidth\": 2, \"linecolor\": \"white\", \"showbackground\": true, \"ticks\": \"\", \"zerolinecolor\": \"white\"}, \"yaxis\": {\"backgroundcolor\": \"#E5ECF6\", \"gridcolor\": \"white\", \"gridwidth\": 2, \"linecolor\": \"white\", \"showbackground\": true, \"ticks\": \"\", \"zerolinecolor\": \"white\"}, \"zaxis\": {\"backgroundcolor\": \"#E5ECF6\", \"gridcolor\": \"white\", \"gridwidth\": 2, \"linecolor\": \"white\", \"showbackground\": true, \"ticks\": \"\", \"zerolinecolor\": \"white\"}}, \"shapedefaults\": {\"line\": {\"color\": \"#2a3f5f\"}}, \"ternary\": {\"aaxis\": {\"gridcolor\": \"white\", \"linecolor\": \"white\", \"ticks\": \"\"}, \"baxis\": {\"gridcolor\": \"white\", \"linecolor\": \"white\", \"ticks\": \"\"}, \"bgcolor\": \"#E5ECF6\", \"caxis\": {\"gridcolor\": \"white\", \"linecolor\": \"white\", \"ticks\": \"\"}}, \"title\": {\"x\": 0.05}, \"xaxis\": {\"automargin\": true, \"gridcolor\": \"white\", \"linecolor\": \"white\", \"ticks\": \"\", \"title\": {\"standoff\": 15}, \"zerolinecolor\": \"white\", \"zerolinewidth\": 2}, \"yaxis\": {\"automargin\": true, \"gridcolor\": \"white\", \"linecolor\": \"white\", \"ticks\": \"\", \"title\": {\"standoff\": 15}, \"zerolinecolor\": \"white\", \"zerolinewidth\": 2}}}, \"title\": {\"text\": \"Grafica Prueba\"}, \"xaxis\": {\"title\": {\"text\": \"X\"}}, \"yaxis\": {\"title\": {\"text\": \"Y\"}}},\n",
              "                        {\"responsive\": true}\n",
              "                    ).then(function(){\n",
              "                            \n",
              "var gd = document.getElementById('4a87f155-7ae8-4833-bd60-8bff57e9b841');\n",
              "var x = new MutationObserver(function (mutations, observer) {{\n",
              "        var display = window.getComputedStyle(gd).display;\n",
              "        if (!display || display === 'none') {{\n",
              "            console.log([gd, 'removed!']);\n",
              "            Plotly.purge(gd);\n",
              "            observer.disconnect();\n",
              "        }}\n",
              "}});\n",
              "\n",
              "// Listen for the removal of the full notebook cells\n",
              "var notebookContainer = gd.closest('#notebook-container');\n",
              "if (notebookContainer) {{\n",
              "    x.observe(notebookContainer, {childList: true});\n",
              "}}\n",
              "\n",
              "// Listen for the clearing of the current output cell\n",
              "var outputEl = gd.closest('.output');\n",
              "if (outputEl) {{\n",
              "    x.observe(outputEl, {childList: true});\n",
              "}}\n",
              "\n",
              "                        })\n",
              "                };\n",
              "                \n",
              "            </script>\n",
              "        </div>\n",
              "</body>\n",
              "</html>"
            ]
          },
          "metadata": {}
        }
      ]
    },
    {
      "cell_type": "code",
      "metadata": {
        "id": "Ufe9UQU25t8S",
        "colab": {
          "base_uri": "https://localhost:8080/",
          "height": 35
        },
        "outputId": "285a901e-697e-471f-b911-80067f67ff15"
      },
      "source": [
        "####  en este caso le damos guardar como tipo de html si cambiamos 'w'\n",
        "### aca puedes ver los diferentes operadores como \"w\": https://stackabuse.com/file-handling-in-python/ \n",
        "with open('Grafica_Pueba.html', 'w') as f:\n",
        "    f.write(fig.to_html(full_html=False, include_plotlyjs='cdn'))   \n",
        "\n",
        "\"\"\" luego en el caso de collab puedes descaragr el html o usar el\n",
        "    el codigo que esta abajo que se le pega la ruta de acceso y te muestra el HTMl\"\"\"\n"
      ],
      "execution_count": null,
      "outputs": [
        {
          "output_type": "execute_result",
          "data": {
            "application/vnd.google.colaboratory.intrinsic+json": {
              "type": "string"
            },
            "text/plain": [
              "' luego en el caso de collab puedes descaragr el html o usar el\\n    el codigo que esta abajo que se le pega la ruta de acceso y te muestra el HTMl'"
            ]
          },
          "metadata": {},
          "execution_count": 12
        }
      ]
    },
    {
      "cell_type": "code",
      "metadata": {
        "colab": {
          "base_uri": "https://localhost:8080/",
          "height": 467
        },
        "id": "fDjL-jRGERKF",
        "outputId": "266016e7-1540-40ce-cb0d-6bc4f8928e7c"
      },
      "source": [
        "from IPython.core.display import display, HTML\n",
        "HTML(filename=\"/content/Grafica_Pueba.html\")"
      ],
      "execution_count": null,
      "outputs": [
        {
          "output_type": "execute_result",
          "data": {
            "text/html": [
              "<div>\n",
              "        \n",
              "                <script type=\"text/javascript\">window.PlotlyConfig = {MathJaxConfig: 'local'};</script>\n",
              "        <script src=\"https://cdn.plot.ly/plotly-latest.min.js\"></script>    \n",
              "            <div id=\"c13b89bb-617a-4f80-90ba-b98643414df1\" class=\"plotly-graph-div\" style=\"height:100%; width:100%;\"></div>\n",
              "            <script type=\"text/javascript\">\n",
              "                \n",
              "                    window.PLOTLYENV=window.PLOTLYENV || {};\n",
              "                    \n",
              "                if (document.getElementById(\"c13b89bb-617a-4f80-90ba-b98643414df1\")) {\n",
              "                    Plotly.newPlot(\n",
              "                        'c13b89bb-617a-4f80-90ba-b98643414df1',\n",
              "                        [{\"line\": {\"color\": \"firebrick\", \"width\": 4}, \"name\": \"Linea\", \"type\": \"scatter\", \"x\": [0, 1, 2, 3, 4, 5, 6, 7, 8, 9], \"y\": [0, 1, 4, 9, 16, 25, 36, 49, 64, 81]}],\n",
              "                        {\"images\": [{\"sizex\": 0.2, \"sizey\": 0.2, \"source\": \"data:image/png;base64,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\", \"x\": 0.9, \"xanchor\": \"right\", \"xref\": \"paper\", \"y\": 1, \"yanchor\": \"bottom\", \"yref\": \"paper\"}], \"template\": {\"data\": {\"bar\": [{\"error_x\": {\"color\": \"#2a3f5f\"}, \"error_y\": {\"color\": \"#2a3f5f\"}, \"marker\": {\"line\": {\"color\": \"#E5ECF6\", \"width\": 0.5}}, \"type\": \"bar\"}], \"barpolar\": [{\"marker\": {\"line\": {\"color\": \"#E5ECF6\", \"width\": 0.5}}, \"type\": \"barpolar\"}], \"carpet\": [{\"aaxis\": {\"endlinecolor\": \"#2a3f5f\", \"gridcolor\": \"white\", \"linecolor\": \"white\", \"minorgridcolor\": \"white\", \"startlinecolor\": \"#2a3f5f\"}, \"baxis\": {\"endlinecolor\": \"#2a3f5f\", \"gridcolor\": \"white\", \"linecolor\": \"white\", \"minorgridcolor\": \"white\", \"startlinecolor\": \"#2a3f5f\"}, \"type\": \"carpet\"}], \"choropleth\": [{\"colorbar\": {\"outlinewidth\": 0, \"ticks\": \"\"}, \"type\": \"choropleth\"}], \"contour\": [{\"colorbar\": {\"outlinewidth\": 0, \"ticks\": \"\"}, \"colorscale\": [[0.0, \"#0d0887\"], [0.1111111111111111, \"#46039f\"], [0.2222222222222222, \"#7201a8\"], [0.3333333333333333, \"#9c179e\"], [0.4444444444444444, \"#bd3786\"], [0.5555555555555556, \"#d8576b\"], [0.6666666666666666, \"#ed7953\"], [0.7777777777777778, \"#fb9f3a\"], [0.8888888888888888, \"#fdca26\"], [1.0, \"#f0f921\"]], \"type\": \"contour\"}], \"contourcarpet\": [{\"colorbar\": {\"outlinewidth\": 0, \"ticks\": \"\"}, \"type\": \"contourcarpet\"}], \"heatmap\": [{\"colorbar\": {\"outlinewidth\": 0, \"ticks\": \"\"}, \"colorscale\": [[0.0, \"#0d0887\"], [0.1111111111111111, \"#46039f\"], [0.2222222222222222, \"#7201a8\"], [0.3333333333333333, \"#9c179e\"], [0.4444444444444444, \"#bd3786\"], [0.5555555555555556, \"#d8576b\"], [0.6666666666666666, \"#ed7953\"], [0.7777777777777778, \"#fb9f3a\"], [0.8888888888888888, \"#fdca26\"], [1.0, \"#f0f921\"]], \"type\": \"heatmap\"}], \"heatmapgl\": [{\"colorbar\": {\"outlinewidth\": 0, \"ticks\": \"\"}, \"colorscale\": [[0.0, \"#0d0887\"], [0.1111111111111111, \"#46039f\"], [0.2222222222222222, \"#7201a8\"], [0.3333333333333333, \"#9c179e\"], [0.4444444444444444, \"#bd3786\"], [0.5555555555555556, \"#d8576b\"], [0.6666666666666666, \"#ed7953\"], [0.7777777777777778, \"#fb9f3a\"], [0.8888888888888888, \"#fdca26\"], [1.0, \"#f0f921\"]], \"type\": \"heatmapgl\"}], \"histogram\": [{\"marker\": {\"colorbar\": {\"outlinewidth\": 0, \"ticks\": \"\"}}, \"type\": \"histogram\"}], \"histogram2d\": [{\"colorbar\": {\"outlinewidth\": 0, \"ticks\": \"\"}, \"colorscale\": [[0.0, \"#0d0887\"], [0.1111111111111111, \"#46039f\"], [0.2222222222222222, \"#7201a8\"], [0.3333333333333333, \"#9c179e\"], [0.4444444444444444, \"#bd3786\"], [0.5555555555555556, \"#d8576b\"], [0.6666666666666666, \"#ed7953\"], [0.7777777777777778, \"#fb9f3a\"], [0.8888888888888888, \"#fdca26\"], [1.0, \"#f0f921\"]], \"type\": \"histogram2d\"}], \"histogram2dcontour\": [{\"colorbar\": {\"outlinewidth\": 0, \"ticks\": \"\"}, \"colorscale\": [[0.0, \"#0d0887\"], [0.1111111111111111, \"#46039f\"], [0.2222222222222222, \"#7201a8\"], [0.3333333333333333, \"#9c179e\"], [0.4444444444444444, \"#bd3786\"], [0.5555555555555556, \"#d8576b\"], [0.6666666666666666, \"#ed7953\"], [0.7777777777777778, \"#fb9f3a\"], [0.8888888888888888, \"#fdca26\"], [1.0, \"#f0f921\"]], \"type\": \"histogram2dcontour\"}], \"mesh3d\": [{\"colorbar\": {\"outlinewidth\": 0, \"ticks\": \"\"}, \"type\": \"mesh3d\"}], \"parcoords\": [{\"line\": {\"colorbar\": {\"outlinewidth\": 0, \"ticks\": \"\"}}, \"type\": \"parcoords\"}], \"pie\": [{\"automargin\": true, \"type\": \"pie\"}], \"scatter\": [{\"marker\": {\"colorbar\": {\"outlinewidth\": 0, \"ticks\": \"\"}}, \"type\": \"scatter\"}], \"scatter3d\": [{\"line\": {\"colorbar\": {\"outlinewidth\": 0, \"ticks\": \"\"}}, \"marker\": {\"colorbar\": {\"outlinewidth\": 0, \"ticks\": \"\"}}, \"type\": \"scatter3d\"}], \"scattercarpet\": [{\"marker\": {\"colorbar\": {\"outlinewidth\": 0, \"ticks\": \"\"}}, \"type\": \"scattercarpet\"}], \"scattergeo\": [{\"marker\": {\"colorbar\": {\"outlinewidth\": 0, \"ticks\": \"\"}}, \"type\": \"scattergeo\"}], \"scattergl\": [{\"marker\": {\"colorbar\": {\"outlinewidth\": 0, \"ticks\": \"\"}}, \"type\": \"scattergl\"}], \"scattermapbox\": [{\"marker\": {\"colorbar\": {\"outlinewidth\": 0, \"ticks\": \"\"}}, \"type\": \"scattermapbox\"}], \"scatterpolar\": [{\"marker\": {\"colorbar\": {\"outlinewidth\": 0, \"ticks\": \"\"}}, \"type\": \"scatterpolar\"}], \"scatterpolargl\": [{\"marker\": {\"colorbar\": {\"outlinewidth\": 0, \"ticks\": \"\"}}, \"type\": \"scatterpolargl\"}], \"scatterternary\": [{\"marker\": {\"colorbar\": {\"outlinewidth\": 0, \"ticks\": \"\"}}, \"type\": \"scatterternary\"}], \"surface\": [{\"colorbar\": {\"outlinewidth\": 0, \"ticks\": \"\"}, \"colorscale\": [[0.0, \"#0d0887\"], [0.1111111111111111, \"#46039f\"], [0.2222222222222222, \"#7201a8\"], [0.3333333333333333, \"#9c179e\"], [0.4444444444444444, \"#bd3786\"], [0.5555555555555556, \"#d8576b\"], [0.6666666666666666, \"#ed7953\"], [0.7777777777777778, \"#fb9f3a\"], [0.8888888888888888, \"#fdca26\"], [1.0, \"#f0f921\"]], \"type\": \"surface\"}], \"table\": [{\"cells\": {\"fill\": {\"color\": \"#EBF0F8\"}, \"line\": {\"color\": \"white\"}}, \"header\": {\"fill\": {\"color\": \"#C8D4E3\"}, \"line\": {\"color\": \"white\"}}, \"type\": \"table\"}]}, \"layout\": {\"annotationdefaults\": {\"arrowcolor\": \"#2a3f5f\", \"arrowhead\": 0, \"arrowwidth\": 1}, \"coloraxis\": {\"colorbar\": {\"outlinewidth\": 0, \"ticks\": \"\"}}, \"colorscale\": {\"diverging\": [[0, \"#8e0152\"], [0.1, \"#c51b7d\"], [0.2, \"#de77ae\"], [0.3, \"#f1b6da\"], [0.4, \"#fde0ef\"], [0.5, \"#f7f7f7\"], [0.6, \"#e6f5d0\"], [0.7, \"#b8e186\"], [0.8, \"#7fbc41\"], [0.9, \"#4d9221\"], [1, \"#276419\"]], \"sequential\": [[0.0, \"#0d0887\"], [0.1111111111111111, \"#46039f\"], [0.2222222222222222, \"#7201a8\"], [0.3333333333333333, \"#9c179e\"], [0.4444444444444444, \"#bd3786\"], [0.5555555555555556, \"#d8576b\"], [0.6666666666666666, \"#ed7953\"], [0.7777777777777778, \"#fb9f3a\"], [0.8888888888888888, \"#fdca26\"], [1.0, \"#f0f921\"]], \"sequentialminus\": [[0.0, \"#0d0887\"], [0.1111111111111111, \"#46039f\"], [0.2222222222222222, \"#7201a8\"], [0.3333333333333333, \"#9c179e\"], [0.4444444444444444, \"#bd3786\"], [0.5555555555555556, \"#d8576b\"], [0.6666666666666666, \"#ed7953\"], [0.7777777777777778, \"#fb9f3a\"], [0.8888888888888888, \"#fdca26\"], [1.0, \"#f0f921\"]]}, \"colorway\": [\"#636efa\", \"#EF553B\", \"#00cc96\", \"#ab63fa\", \"#FFA15A\", \"#19d3f3\", \"#FF6692\", \"#B6E880\", \"#FF97FF\", \"#FECB52\"], \"font\": {\"color\": \"#2a3f5f\"}, \"geo\": {\"bgcolor\": \"white\", \"lakecolor\": \"white\", \"landcolor\": \"#E5ECF6\", \"showlakes\": true, \"showland\": true, \"subunitcolor\": \"white\"}, \"hoverlabel\": {\"align\": \"left\"}, \"hovermode\": \"closest\", \"mapbox\": {\"style\": \"light\"}, \"paper_bgcolor\": \"white\", \"plot_bgcolor\": \"#E5ECF6\", \"polar\": {\"angularaxis\": {\"gridcolor\": \"white\", \"linecolor\": \"white\", \"ticks\": \"\"}, \"bgcolor\": \"#E5ECF6\", \"radialaxis\": {\"gridcolor\": \"white\", \"linecolor\": \"white\", \"ticks\": \"\"}}, \"scene\": {\"xaxis\": {\"backgroundcolor\": \"#E5ECF6\", \"gridcolor\": \"white\", \"gridwidth\": 2, \"linecolor\": \"white\", \"showbackground\": true, \"ticks\": \"\", \"zerolinecolor\": \"white\"}, \"yaxis\": {\"backgroundcolor\": \"#E5ECF6\", \"gridcolor\": \"white\", \"gridwidth\": 2, \"linecolor\": \"white\", \"showbackground\": true, \"ticks\": \"\", \"zerolinecolor\": \"white\"}, \"zaxis\": {\"backgroundcolor\": \"#E5ECF6\", \"gridcolor\": \"white\", \"gridwidth\": 2, \"linecolor\": \"white\", \"showbackground\": true, \"ticks\": \"\", \"zerolinecolor\": \"white\"}}, \"shapedefaults\": {\"line\": {\"color\": \"#2a3f5f\"}}, \"ternary\": {\"aaxis\": {\"gridcolor\": \"white\", \"linecolor\": \"white\", \"ticks\": \"\"}, \"baxis\": {\"gridcolor\": \"white\", \"linecolor\": \"white\", \"ticks\": \"\"}, \"bgcolor\": \"#E5ECF6\", \"caxis\": {\"gridcolor\": \"white\", \"linecolor\": \"white\", \"ticks\": \"\"}}, \"title\": {\"x\": 0.05}, \"xaxis\": {\"automargin\": true, \"gridcolor\": \"white\", \"linecolor\": \"white\", \"ticks\": \"\", \"title\": {\"standoff\": 15}, \"zerolinecolor\": \"white\", \"zerolinewidth\": 2}, \"yaxis\": {\"automargin\": true, \"gridcolor\": \"white\", \"linecolor\": \"white\", \"ticks\": \"\", \"title\": {\"standoff\": 15}, \"zerolinecolor\": \"white\", \"zerolinewidth\": 2}}}, \"title\": {\"text\": \"Grafica Prueba\"}, \"xaxis\": {\"title\": {\"text\": \"X\"}}, \"yaxis\": {\"title\": {\"text\": \"Y\"}}},\n",
              "                        {\"responsive\": true}\n",
              "                    )\n",
              "                };\n",
              "                \n",
              "            </script>\n",
              "        </div>"
            ],
            "text/plain": [
              "<IPython.core.display.HTML object>"
            ]
          },
          "metadata": {},
          "execution_count": 13
        }
      ]
    },
    {
      "cell_type": "code",
      "metadata": {
        "id": "3bV7dAg3Ei-d"
      },
      "source": [
        "# para el caso de crear un HTML como con mas presentacion:\n",
        "def to_html(list_data,company,month):\n",
        "    \n",
        "    html_result = '''\n",
        "<html>\n",
        "    <head>\n",
        "        <link rel=\"shortcut icon\" href=\"http://www.iconj.com/ico/p/1/p14r1u145y.ico\" type=\"image/x-icon\" />\n",
        "        <script src=\"https://cdn.plot.ly/plotly-latest.min.js\"></script>\n",
        "        <link rel=\"stylesheet\" href=\"https://maxcdn.bootstrapcdn.com/bootstrap/3.3.1/css/bootstrap.min.css\">\n",
        "        <style type=\"text/css\">\n",
        "            h3 {text-align: left;font-family: Helvetica Neue;}\n",
        "            h4 {text-align: left;font-family: Helvetica Neue;}\n",
        "            h5 {text-align: left;font-family: Helvetica Neue; color: gray; }\n",
        "            h6 {text-align: center;font-family: Helvetica Neue; color: gray; }\n",
        "            table { margin-left: auto;margin-right: auto;width=20%}\n",
        "            table, th, td {border: 1px solid black;border-collapse: collapse;}\n",
        "            th, td {padding: 5px;text-align: center;font-family: Helvetica Neue;font-size: 90%;}\n",
        "            table tbody tr:hover {background-color: #dddddd;}\n",
        "            .wide {width: 90%; }\n",
        "            .text{margin-left: 5%;margin-right: 5%;}\n",
        "            .container{padding-bottom:3%;}\n",
        "            .title{text-align: center;font-family: Helvetica Neue;}\n",
        "            \n",
        "        </style>\n",
        "    </head>\n",
        "    <body style=\"margin-left:12%;margin-right:12%;margin-top:3%;margin-bottom:3%;padding-left:3%;padding-right:3%;padding-top:3%;\n",
        "    box-shadow: 0 5px 9px 0 rgba(0, 0, 0, 0.5), 0 6px 20px 0 rgba(0, 0, 0, 0.19);border-radius:10px\">\n",
        "    '''\n",
        "    ## sub es el subtitulo \n",
        "    sub= 'Reporte'+' '+month+ ' 2021'\n",
        "    #### aca ponemos el logo superior\n",
        "    html_result += '<img src=\"https://asimetrixassets.s3.amazonaws.com/logo_asimetrix_resalta.png\" alt=\"asimetrix-full\" alt=\"Asimetrix\" width=\"50%\">'\n",
        "    html_result += '<div class=\"container\">'\n",
        "    ## titulo con la empresa\n",
        "    html_result += '<h2 class=title><strong> %s </strong></h2>\\n' % company \n",
        "    ## subitutlo\n",
        "    html_result += '<h4 class=title><strong> %s </strong></h4>\\n' % sub\n",
        "    html_result +='<div class=\"container\">'\n",
        "    html_result +='</div>'\n",
        "    \n",
        "    for i in list_data:\n",
        "    \n",
        "        if i['title'] != None:\n",
        "            html_result += '<h3><strong> %s </strong></h3>\\n' % i['title']\n",
        "        if i['subtitle'] != None:\n",
        "            html_result += '<h4><strong> %s </strong></h4>\\n' % i['subtitle']\n",
        "        if i['text'] != None:\n",
        "            html_result += '<h5 class=\"text\"> %s </h5>\\n' % i['text']\n",
        "        #para tablas tipo dataframe\n",
        "        if i['type'] == 'Table':\n",
        "            html_result += i['values'].to_html(classes='wide', escape=False,index=False)\n",
        "        #para graficas con plotly\n",
        "        elif i['type'] == 'Graph':\n",
        "            aPlot = plot(i['values'], config={\"displayModeBar\": False}, show_link=False, include_plotlyjs=False, output_type='div')\n",
        "            html_result += aPlot\n",
        "        else:\n",
        "            html_result += '<h3><strong> %s </strong></h3>\\n' %'Ningun tipo coincide'\n",
        "    \n",
        "        # html_result +='<div class=\"container\">'\n",
        "        html_result +='</div>'\n",
        "        \n",
        "    html_result += '<div style=\"text-align: left\">'\n",
        "    html_result += '<div style=\"text-align: center\">'\n",
        "    # aca remplazas el link de la imagen que quieres d elogo inferior\n",
        "    html_result += '<img src=\"https://asimetrixassets.s3.amazonaws.com/logo_asimetrix_resalta.png\" class=\"center\" style=\"width:40%\">'\n",
        "    html_result += '<h6 class=title><strong> %s </strong></h4>\\n' % 'www.asimetrix.co'\n",
        "    html_result +='<div class=\"container\">'\n",
        "    html_result += '''\n",
        "    </body>\n",
        "</html>\n",
        "'''\n",
        "    return html_result"
      ],
      "execution_count": null,
      "outputs": []
    },
    {
      "cell_type": "code",
      "metadata": {
        "colab": {
          "base_uri": "https://localhost:8080/",
          "height": 1000
        },
        "id": "-wvS25dGFP2Q",
        "outputId": "7c9d396d-65a5-48cb-f4bd-13e378b13478"
      },
      "source": [
        "# aca creamos las variables que necesitamos\n",
        "company = \"Asimetrix\"\n",
        "month = datetime.now().strftime(\"%B\")\n",
        "month = str(month)\n",
        "list_data = list()\n",
        "### Crear un array de datos\n",
        "x = np.arange(10)\n",
        "fig = go.Figure()\n",
        "fig.add_trace(go.Scatter(x=x, y=x*x, name='Linea',\n",
        "                         line=dict(color='firebrick', width=4)))\n",
        "fig.update_layout(title='Grafica Prueba',\n",
        "                   xaxis_title='X',\n",
        "                   yaxis_title='Y',\n",
        "                                 )\n",
        "fig.show()\n",
        "## guardamos la figura en la lista\n",
        "data = {'values':fig,\"title\":None,'subtitle':None,'text':None,'type':'Graph'}\n",
        "# agregamos la data de la imagen a la lista\n",
        "list_data.append(data)\n",
        "\n",
        "### Crear un array de datos\n",
        "x = np.arange(10)\n",
        "fig = go.Figure()\n",
        "fig.add_trace(go.Scatter(x=x, y=x*x*x, name='Linea',\n",
        "                         line=dict(color='firebrick', width=4)))\n",
        "#### agregamos una imagen y agregmos la imagen encodeada\n",
        "fig.update_layout( xaxis_title='X',\n",
        "                   yaxis_title='Y',\n",
        "                                 )\n",
        "fig.show()\n",
        "## guardamos la figura en la lista\n",
        "data = {'values':fig,\"title\":'Grafica Prueba','subtitle':None,'text':None,'type':'Graph'}\n",
        "# agregamos la data de la imagen a la lista\n",
        "list_data.append(data)\n",
        "\n",
        "# creamos el html con la funcion\n",
        "html_doc = to_html(list_data,company,month)\n",
        "\n",
        "with open(company+'.html', 'w') as f:\n",
        "    f.write(html_doc)\n",
        "\"\"\" luego en el caso de collab puedes descaragr el html o usar el\n",
        "    el codigo que esta abajo que se le pega la ruta de acceso y te muestra el HTMl\"\"\"\n"
      ],
      "execution_count": null,
      "outputs": [
        {
          "output_type": "display_data",
          "data": {
            "text/html": [
              "<html>\n",
              "<head><meta charset=\"utf-8\" /></head>\n",
              "<body>\n",
              "    <div>\n",
              "            <script src=\"https://cdnjs.cloudflare.com/ajax/libs/mathjax/2.7.5/MathJax.js?config=TeX-AMS-MML_SVG\"></script><script type=\"text/javascript\">if (window.MathJax) {MathJax.Hub.Config({SVG: {font: \"STIX-Web\"}});}</script>\n",
              "                <script type=\"text/javascript\">window.PlotlyConfig = {MathJaxConfig: 'local'};</script>\n",
              "        <script src=\"https://cdn.plot.ly/plotly-latest.min.js\"></script>    \n",
              "            <div id=\"3f1dc122-ca4c-40c0-8a85-219624ae907e\" class=\"plotly-graph-div\" style=\"height:525px; width:100%;\"></div>\n",
              "            <script type=\"text/javascript\">\n",
              "                \n",
              "                    window.PLOTLYENV=window.PLOTLYENV || {};\n",
              "                    \n",
              "                if (document.getElementById(\"3f1dc122-ca4c-40c0-8a85-219624ae907e\")) {\n",
              "                    Plotly.newPlot(\n",
              "                        '3f1dc122-ca4c-40c0-8a85-219624ae907e',\n",
              "                        [{\"line\": {\"color\": \"firebrick\", \"width\": 4}, \"name\": \"Linea\", \"type\": \"scatter\", \"x\": [0, 1, 2, 3, 4, 5, 6, 7, 8, 9], \"y\": [0, 1, 4, 9, 16, 25, 36, 49, 64, 81]}],\n",
              "                        {\"template\": {\"data\": {\"bar\": [{\"error_x\": {\"color\": \"#2a3f5f\"}, \"error_y\": {\"color\": \"#2a3f5f\"}, \"marker\": {\"line\": {\"color\": \"#E5ECF6\", \"width\": 0.5}}, \"type\": \"bar\"}], \"barpolar\": [{\"marker\": {\"line\": {\"color\": \"#E5ECF6\", \"width\": 0.5}}, \"type\": \"barpolar\"}], \"carpet\": [{\"aaxis\": {\"endlinecolor\": \"#2a3f5f\", \"gridcolor\": \"white\", \"linecolor\": \"white\", \"minorgridcolor\": \"white\", \"startlinecolor\": \"#2a3f5f\"}, \"baxis\": {\"endlinecolor\": \"#2a3f5f\", \"gridcolor\": \"white\", \"linecolor\": \"white\", \"minorgridcolor\": \"white\", \"startlinecolor\": \"#2a3f5f\"}, \"type\": \"carpet\"}], \"choropleth\": [{\"colorbar\": {\"outlinewidth\": 0, \"ticks\": \"\"}, \"type\": \"choropleth\"}], \"contour\": [{\"colorbar\": {\"outlinewidth\": 0, \"ticks\": \"\"}, \"colorscale\": [[0.0, \"#0d0887\"], [0.1111111111111111, \"#46039f\"], [0.2222222222222222, \"#7201a8\"], [0.3333333333333333, \"#9c179e\"], [0.4444444444444444, \"#bd3786\"], [0.5555555555555556, \"#d8576b\"], [0.6666666666666666, \"#ed7953\"], [0.7777777777777778, \"#fb9f3a\"], [0.8888888888888888, \"#fdca26\"], [1.0, \"#f0f921\"]], \"type\": \"contour\"}], \"contourcarpet\": [{\"colorbar\": {\"outlinewidth\": 0, \"ticks\": \"\"}, \"type\": \"contourcarpet\"}], \"heatmap\": [{\"colorbar\": {\"outlinewidth\": 0, \"ticks\": \"\"}, \"colorscale\": [[0.0, \"#0d0887\"], [0.1111111111111111, \"#46039f\"], [0.2222222222222222, \"#7201a8\"], [0.3333333333333333, \"#9c179e\"], [0.4444444444444444, \"#bd3786\"], [0.5555555555555556, \"#d8576b\"], [0.6666666666666666, \"#ed7953\"], [0.7777777777777778, \"#fb9f3a\"], [0.8888888888888888, \"#fdca26\"], [1.0, \"#f0f921\"]], \"type\": \"heatmap\"}], \"heatmapgl\": [{\"colorbar\": {\"outlinewidth\": 0, \"ticks\": \"\"}, \"colorscale\": [[0.0, \"#0d0887\"], [0.1111111111111111, \"#46039f\"], [0.2222222222222222, \"#7201a8\"], [0.3333333333333333, \"#9c179e\"], [0.4444444444444444, \"#bd3786\"], [0.5555555555555556, \"#d8576b\"], [0.6666666666666666, \"#ed7953\"], [0.7777777777777778, \"#fb9f3a\"], [0.8888888888888888, \"#fdca26\"], [1.0, \"#f0f921\"]], \"type\": \"heatmapgl\"}], \"histogram\": [{\"marker\": {\"colorbar\": {\"outlinewidth\": 0, \"ticks\": \"\"}}, \"type\": \"histogram\"}], \"histogram2d\": [{\"colorbar\": {\"outlinewidth\": 0, \"ticks\": \"\"}, \"colorscale\": [[0.0, \"#0d0887\"], [0.1111111111111111, \"#46039f\"], [0.2222222222222222, \"#7201a8\"], [0.3333333333333333, \"#9c179e\"], [0.4444444444444444, \"#bd3786\"], [0.5555555555555556, \"#d8576b\"], [0.6666666666666666, \"#ed7953\"], [0.7777777777777778, \"#fb9f3a\"], [0.8888888888888888, \"#fdca26\"], [1.0, \"#f0f921\"]], \"type\": \"histogram2d\"}], \"histogram2dcontour\": [{\"colorbar\": {\"outlinewidth\": 0, \"ticks\": \"\"}, \"colorscale\": [[0.0, \"#0d0887\"], [0.1111111111111111, \"#46039f\"], [0.2222222222222222, \"#7201a8\"], [0.3333333333333333, \"#9c179e\"], [0.4444444444444444, \"#bd3786\"], [0.5555555555555556, \"#d8576b\"], [0.6666666666666666, \"#ed7953\"], [0.7777777777777778, \"#fb9f3a\"], [0.8888888888888888, \"#fdca26\"], [1.0, \"#f0f921\"]], \"type\": \"histogram2dcontour\"}], \"mesh3d\": [{\"colorbar\": {\"outlinewidth\": 0, \"ticks\": \"\"}, \"type\": \"mesh3d\"}], \"parcoords\": [{\"line\": {\"colorbar\": {\"outlinewidth\": 0, \"ticks\": \"\"}}, \"type\": \"parcoords\"}], \"pie\": [{\"automargin\": true, \"type\": \"pie\"}], \"scatter\": [{\"marker\": {\"colorbar\": {\"outlinewidth\": 0, \"ticks\": \"\"}}, \"type\": \"scatter\"}], \"scatter3d\": [{\"line\": {\"colorbar\": {\"outlinewidth\": 0, \"ticks\": \"\"}}, \"marker\": {\"colorbar\": {\"outlinewidth\": 0, \"ticks\": \"\"}}, \"type\": \"scatter3d\"}], \"scattercarpet\": [{\"marker\": {\"colorbar\": {\"outlinewidth\": 0, \"ticks\": \"\"}}, \"type\": \"scattercarpet\"}], \"scattergeo\": [{\"marker\": {\"colorbar\": {\"outlinewidth\": 0, \"ticks\": \"\"}}, \"type\": \"scattergeo\"}], \"scattergl\": [{\"marker\": {\"colorbar\": {\"outlinewidth\": 0, \"ticks\": \"\"}}, \"type\": \"scattergl\"}], \"scattermapbox\": [{\"marker\": {\"colorbar\": {\"outlinewidth\": 0, \"ticks\": \"\"}}, \"type\": \"scattermapbox\"}], \"scatterpolar\": [{\"marker\": {\"colorbar\": {\"outlinewidth\": 0, \"ticks\": \"\"}}, \"type\": \"scatterpolar\"}], \"scatterpolargl\": [{\"marker\": {\"colorbar\": {\"outlinewidth\": 0, \"ticks\": \"\"}}, \"type\": \"scatterpolargl\"}], \"scatterternary\": [{\"marker\": {\"colorbar\": {\"outlinewidth\": 0, \"ticks\": \"\"}}, \"type\": \"scatterternary\"}], \"surface\": [{\"colorbar\": {\"outlinewidth\": 0, \"ticks\": \"\"}, \"colorscale\": [[0.0, \"#0d0887\"], [0.1111111111111111, \"#46039f\"], [0.2222222222222222, \"#7201a8\"], [0.3333333333333333, \"#9c179e\"], [0.4444444444444444, \"#bd3786\"], [0.5555555555555556, \"#d8576b\"], [0.6666666666666666, \"#ed7953\"], [0.7777777777777778, \"#fb9f3a\"], [0.8888888888888888, \"#fdca26\"], [1.0, \"#f0f921\"]], \"type\": \"surface\"}], \"table\": [{\"cells\": {\"fill\": {\"color\": \"#EBF0F8\"}, \"line\": {\"color\": \"white\"}}, \"header\": {\"fill\": {\"color\": \"#C8D4E3\"}, \"line\": {\"color\": \"white\"}}, \"type\": \"table\"}]}, \"layout\": {\"annotationdefaults\": {\"arrowcolor\": \"#2a3f5f\", \"arrowhead\": 0, \"arrowwidth\": 1}, \"coloraxis\": {\"colorbar\": {\"outlinewidth\": 0, \"ticks\": \"\"}}, \"colorscale\": {\"diverging\": [[0, \"#8e0152\"], [0.1, \"#c51b7d\"], [0.2, \"#de77ae\"], [0.3, \"#f1b6da\"], [0.4, \"#fde0ef\"], [0.5, \"#f7f7f7\"], [0.6, \"#e6f5d0\"], [0.7, \"#b8e186\"], [0.8, \"#7fbc41\"], [0.9, \"#4d9221\"], [1, \"#276419\"]], \"sequential\": [[0.0, \"#0d0887\"], [0.1111111111111111, \"#46039f\"], [0.2222222222222222, \"#7201a8\"], [0.3333333333333333, \"#9c179e\"], [0.4444444444444444, \"#bd3786\"], [0.5555555555555556, \"#d8576b\"], [0.6666666666666666, \"#ed7953\"], [0.7777777777777778, \"#fb9f3a\"], [0.8888888888888888, \"#fdca26\"], [1.0, \"#f0f921\"]], \"sequentialminus\": [[0.0, \"#0d0887\"], [0.1111111111111111, \"#46039f\"], [0.2222222222222222, \"#7201a8\"], [0.3333333333333333, \"#9c179e\"], [0.4444444444444444, \"#bd3786\"], [0.5555555555555556, \"#d8576b\"], [0.6666666666666666, \"#ed7953\"], [0.7777777777777778, \"#fb9f3a\"], [0.8888888888888888, \"#fdca26\"], [1.0, \"#f0f921\"]]}, \"colorway\": [\"#636efa\", \"#EF553B\", \"#00cc96\", \"#ab63fa\", \"#FFA15A\", \"#19d3f3\", \"#FF6692\", \"#B6E880\", \"#FF97FF\", \"#FECB52\"], \"font\": {\"color\": \"#2a3f5f\"}, \"geo\": {\"bgcolor\": \"white\", \"lakecolor\": \"white\", \"landcolor\": \"#E5ECF6\", \"showlakes\": true, \"showland\": true, \"subunitcolor\": \"white\"}, \"hoverlabel\": {\"align\": \"left\"}, \"hovermode\": \"closest\", \"mapbox\": {\"style\": \"light\"}, \"paper_bgcolor\": \"white\", \"plot_bgcolor\": \"#E5ECF6\", \"polar\": {\"angularaxis\": {\"gridcolor\": \"white\", \"linecolor\": \"white\", \"ticks\": \"\"}, \"bgcolor\": \"#E5ECF6\", \"radialaxis\": {\"gridcolor\": \"white\", \"linecolor\": \"white\", \"ticks\": \"\"}}, \"scene\": {\"xaxis\": {\"backgroundcolor\": \"#E5ECF6\", \"gridcolor\": \"white\", \"gridwidth\": 2, \"linecolor\": \"white\", \"showbackground\": true, \"ticks\": \"\", \"zerolinecolor\": \"white\"}, \"yaxis\": {\"backgroundcolor\": \"#E5ECF6\", \"gridcolor\": \"white\", \"gridwidth\": 2, \"linecolor\": \"white\", \"showbackground\": true, \"ticks\": \"\", \"zerolinecolor\": \"white\"}, \"zaxis\": {\"backgroundcolor\": \"#E5ECF6\", \"gridcolor\": \"white\", \"gridwidth\": 2, \"linecolor\": \"white\", \"showbackground\": true, \"ticks\": \"\", \"zerolinecolor\": \"white\"}}, \"shapedefaults\": {\"line\": {\"color\": \"#2a3f5f\"}}, \"ternary\": {\"aaxis\": {\"gridcolor\": \"white\", \"linecolor\": \"white\", \"ticks\": \"\"}, \"baxis\": {\"gridcolor\": \"white\", \"linecolor\": \"white\", \"ticks\": \"\"}, \"bgcolor\": \"#E5ECF6\", \"caxis\": {\"gridcolor\": \"white\", \"linecolor\": \"white\", \"ticks\": \"\"}}, \"title\": {\"x\": 0.05}, \"xaxis\": {\"automargin\": true, \"gridcolor\": \"white\", \"linecolor\": \"white\", \"ticks\": \"\", \"title\": {\"standoff\": 15}, \"zerolinecolor\": \"white\", \"zerolinewidth\": 2}, \"yaxis\": {\"automargin\": true, \"gridcolor\": \"white\", \"linecolor\": \"white\", \"ticks\": \"\", \"title\": {\"standoff\": 15}, \"zerolinecolor\": \"white\", \"zerolinewidth\": 2}}}, \"title\": {\"text\": \"Grafica Prueba\"}, \"xaxis\": {\"title\": {\"text\": \"X\"}}, \"yaxis\": {\"title\": {\"text\": \"Y\"}}},\n",
              "                        {\"responsive\": true}\n",
              "                    ).then(function(){\n",
              "                            \n",
              "var gd = document.getElementById('3f1dc122-ca4c-40c0-8a85-219624ae907e');\n",
              "var x = new MutationObserver(function (mutations, observer) {{\n",
              "        var display = window.getComputedStyle(gd).display;\n",
              "        if (!display || display === 'none') {{\n",
              "            console.log([gd, 'removed!']);\n",
              "            Plotly.purge(gd);\n",
              "            observer.disconnect();\n",
              "        }}\n",
              "}});\n",
              "\n",
              "// Listen for the removal of the full notebook cells\n",
              "var notebookContainer = gd.closest('#notebook-container');\n",
              "if (notebookContainer) {{\n",
              "    x.observe(notebookContainer, {childList: true});\n",
              "}}\n",
              "\n",
              "// Listen for the clearing of the current output cell\n",
              "var outputEl = gd.closest('.output');\n",
              "if (outputEl) {{\n",
              "    x.observe(outputEl, {childList: true});\n",
              "}}\n",
              "\n",
              "                        })\n",
              "                };\n",
              "                \n",
              "            </script>\n",
              "        </div>\n",
              "</body>\n",
              "</html>"
            ]
          },
          "metadata": {}
        },
        {
          "output_type": "display_data",
          "data": {
            "text/html": [
              "<html>\n",
              "<head><meta charset=\"utf-8\" /></head>\n",
              "<body>\n",
              "    <div>\n",
              "            <script src=\"https://cdnjs.cloudflare.com/ajax/libs/mathjax/2.7.5/MathJax.js?config=TeX-AMS-MML_SVG\"></script><script type=\"text/javascript\">if (window.MathJax) {MathJax.Hub.Config({SVG: {font: \"STIX-Web\"}});}</script>\n",
              "                <script type=\"text/javascript\">window.PlotlyConfig = {MathJaxConfig: 'local'};</script>\n",
              "        <script src=\"https://cdn.plot.ly/plotly-latest.min.js\"></script>    \n",
              "            <div id=\"8bda3e33-ce1f-4ebd-9500-ce0a9f650b43\" class=\"plotly-graph-div\" style=\"height:525px; width:100%;\"></div>\n",
              "            <script type=\"text/javascript\">\n",
              "                \n",
              "                    window.PLOTLYENV=window.PLOTLYENV || {};\n",
              "                    \n",
              "                if (document.getElementById(\"8bda3e33-ce1f-4ebd-9500-ce0a9f650b43\")) {\n",
              "                    Plotly.newPlot(\n",
              "                        '8bda3e33-ce1f-4ebd-9500-ce0a9f650b43',\n",
              "                        [{\"line\": {\"color\": \"firebrick\", \"width\": 4}, \"name\": \"Linea\", \"type\": \"scatter\", \"x\": [0, 1, 2, 3, 4, 5, 6, 7, 8, 9], \"y\": [0, 1, 8, 27, 64, 125, 216, 343, 512, 729]}],\n",
              "                        {\"template\": {\"data\": {\"bar\": [{\"error_x\": {\"color\": \"#2a3f5f\"}, \"error_y\": {\"color\": \"#2a3f5f\"}, \"marker\": {\"line\": {\"color\": \"#E5ECF6\", \"width\": 0.5}}, \"type\": \"bar\"}], \"barpolar\": [{\"marker\": {\"line\": {\"color\": \"#E5ECF6\", \"width\": 0.5}}, \"type\": \"barpolar\"}], \"carpet\": [{\"aaxis\": {\"endlinecolor\": \"#2a3f5f\", \"gridcolor\": \"white\", \"linecolor\": \"white\", \"minorgridcolor\": \"white\", \"startlinecolor\": \"#2a3f5f\"}, \"baxis\": {\"endlinecolor\": \"#2a3f5f\", \"gridcolor\": \"white\", \"linecolor\": \"white\", \"minorgridcolor\": \"white\", \"startlinecolor\": \"#2a3f5f\"}, \"type\": \"carpet\"}], \"choropleth\": [{\"colorbar\": {\"outlinewidth\": 0, \"ticks\": \"\"}, \"type\": \"choropleth\"}], \"contour\": [{\"colorbar\": {\"outlinewidth\": 0, \"ticks\": \"\"}, \"colorscale\": [[0.0, \"#0d0887\"], [0.1111111111111111, \"#46039f\"], [0.2222222222222222, \"#7201a8\"], [0.3333333333333333, \"#9c179e\"], [0.4444444444444444, \"#bd3786\"], [0.5555555555555556, \"#d8576b\"], [0.6666666666666666, \"#ed7953\"], [0.7777777777777778, \"#fb9f3a\"], [0.8888888888888888, \"#fdca26\"], [1.0, \"#f0f921\"]], \"type\": \"contour\"}], \"contourcarpet\": [{\"colorbar\": {\"outlinewidth\": 0, \"ticks\": \"\"}, \"type\": \"contourcarpet\"}], \"heatmap\": [{\"colorbar\": {\"outlinewidth\": 0, \"ticks\": \"\"}, \"colorscale\": [[0.0, \"#0d0887\"], [0.1111111111111111, \"#46039f\"], [0.2222222222222222, \"#7201a8\"], [0.3333333333333333, \"#9c179e\"], [0.4444444444444444, \"#bd3786\"], [0.5555555555555556, \"#d8576b\"], [0.6666666666666666, \"#ed7953\"], [0.7777777777777778, \"#fb9f3a\"], [0.8888888888888888, \"#fdca26\"], [1.0, \"#f0f921\"]], \"type\": \"heatmap\"}], \"heatmapgl\": [{\"colorbar\": {\"outlinewidth\": 0, \"ticks\": \"\"}, \"colorscale\": [[0.0, \"#0d0887\"], [0.1111111111111111, \"#46039f\"], [0.2222222222222222, \"#7201a8\"], [0.3333333333333333, \"#9c179e\"], [0.4444444444444444, \"#bd3786\"], [0.5555555555555556, \"#d8576b\"], [0.6666666666666666, \"#ed7953\"], [0.7777777777777778, \"#fb9f3a\"], [0.8888888888888888, \"#fdca26\"], [1.0, \"#f0f921\"]], \"type\": \"heatmapgl\"}], \"histogram\": [{\"marker\": {\"colorbar\": {\"outlinewidth\": 0, \"ticks\": \"\"}}, \"type\": \"histogram\"}], \"histogram2d\": [{\"colorbar\": {\"outlinewidth\": 0, \"ticks\": \"\"}, \"colorscale\": [[0.0, \"#0d0887\"], [0.1111111111111111, \"#46039f\"], [0.2222222222222222, \"#7201a8\"], [0.3333333333333333, \"#9c179e\"], [0.4444444444444444, \"#bd3786\"], [0.5555555555555556, \"#d8576b\"], [0.6666666666666666, \"#ed7953\"], [0.7777777777777778, \"#fb9f3a\"], [0.8888888888888888, \"#fdca26\"], [1.0, \"#f0f921\"]], \"type\": \"histogram2d\"}], \"histogram2dcontour\": [{\"colorbar\": {\"outlinewidth\": 0, \"ticks\": \"\"}, \"colorscale\": [[0.0, \"#0d0887\"], [0.1111111111111111, \"#46039f\"], [0.2222222222222222, \"#7201a8\"], [0.3333333333333333, \"#9c179e\"], [0.4444444444444444, \"#bd3786\"], [0.5555555555555556, \"#d8576b\"], [0.6666666666666666, \"#ed7953\"], [0.7777777777777778, \"#fb9f3a\"], [0.8888888888888888, \"#fdca26\"], [1.0, \"#f0f921\"]], \"type\": \"histogram2dcontour\"}], \"mesh3d\": [{\"colorbar\": {\"outlinewidth\": 0, \"ticks\": \"\"}, \"type\": \"mesh3d\"}], \"parcoords\": [{\"line\": {\"colorbar\": {\"outlinewidth\": 0, \"ticks\": \"\"}}, \"type\": \"parcoords\"}], \"pie\": [{\"automargin\": true, \"type\": \"pie\"}], \"scatter\": [{\"marker\": {\"colorbar\": {\"outlinewidth\": 0, \"ticks\": \"\"}}, \"type\": \"scatter\"}], \"scatter3d\": [{\"line\": {\"colorbar\": {\"outlinewidth\": 0, \"ticks\": \"\"}}, \"marker\": {\"colorbar\": {\"outlinewidth\": 0, \"ticks\": \"\"}}, \"type\": \"scatter3d\"}], \"scattercarpet\": [{\"marker\": {\"colorbar\": {\"outlinewidth\": 0, \"ticks\": \"\"}}, \"type\": \"scattercarpet\"}], \"scattergeo\": [{\"marker\": {\"colorbar\": {\"outlinewidth\": 0, \"ticks\": \"\"}}, \"type\": \"scattergeo\"}], \"scattergl\": [{\"marker\": {\"colorbar\": {\"outlinewidth\": 0, \"ticks\": \"\"}}, \"type\": \"scattergl\"}], \"scattermapbox\": [{\"marker\": {\"colorbar\": {\"outlinewidth\": 0, \"ticks\": \"\"}}, \"type\": \"scattermapbox\"}], \"scatterpolar\": [{\"marker\": {\"colorbar\": {\"outlinewidth\": 0, \"ticks\": \"\"}}, \"type\": \"scatterpolar\"}], \"scatterpolargl\": [{\"marker\": {\"colorbar\": {\"outlinewidth\": 0, \"ticks\": \"\"}}, \"type\": \"scatterpolargl\"}], \"scatterternary\": [{\"marker\": {\"colorbar\": {\"outlinewidth\": 0, \"ticks\": \"\"}}, \"type\": \"scatterternary\"}], \"surface\": [{\"colorbar\": {\"outlinewidth\": 0, \"ticks\": \"\"}, \"colorscale\": [[0.0, \"#0d0887\"], [0.1111111111111111, \"#46039f\"], [0.2222222222222222, \"#7201a8\"], [0.3333333333333333, \"#9c179e\"], [0.4444444444444444, \"#bd3786\"], [0.5555555555555556, \"#d8576b\"], [0.6666666666666666, \"#ed7953\"], [0.7777777777777778, \"#fb9f3a\"], [0.8888888888888888, \"#fdca26\"], [1.0, \"#f0f921\"]], \"type\": \"surface\"}], \"table\": [{\"cells\": {\"fill\": {\"color\": \"#EBF0F8\"}, \"line\": {\"color\": \"white\"}}, \"header\": {\"fill\": {\"color\": \"#C8D4E3\"}, \"line\": {\"color\": \"white\"}}, \"type\": \"table\"}]}, \"layout\": {\"annotationdefaults\": {\"arrowcolor\": \"#2a3f5f\", \"arrowhead\": 0, \"arrowwidth\": 1}, \"coloraxis\": {\"colorbar\": {\"outlinewidth\": 0, \"ticks\": \"\"}}, \"colorscale\": {\"diverging\": [[0, \"#8e0152\"], [0.1, \"#c51b7d\"], [0.2, \"#de77ae\"], [0.3, \"#f1b6da\"], [0.4, \"#fde0ef\"], [0.5, \"#f7f7f7\"], [0.6, \"#e6f5d0\"], [0.7, \"#b8e186\"], [0.8, \"#7fbc41\"], [0.9, \"#4d9221\"], [1, \"#276419\"]], \"sequential\": [[0.0, \"#0d0887\"], [0.1111111111111111, \"#46039f\"], [0.2222222222222222, \"#7201a8\"], [0.3333333333333333, \"#9c179e\"], [0.4444444444444444, \"#bd3786\"], [0.5555555555555556, \"#d8576b\"], [0.6666666666666666, \"#ed7953\"], [0.7777777777777778, \"#fb9f3a\"], [0.8888888888888888, \"#fdca26\"], [1.0, \"#f0f921\"]], \"sequentialminus\": [[0.0, \"#0d0887\"], [0.1111111111111111, \"#46039f\"], [0.2222222222222222, \"#7201a8\"], [0.3333333333333333, \"#9c179e\"], [0.4444444444444444, \"#bd3786\"], [0.5555555555555556, \"#d8576b\"], [0.6666666666666666, \"#ed7953\"], [0.7777777777777778, \"#fb9f3a\"], [0.8888888888888888, \"#fdca26\"], [1.0, \"#f0f921\"]]}, \"colorway\": [\"#636efa\", \"#EF553B\", \"#00cc96\", \"#ab63fa\", \"#FFA15A\", \"#19d3f3\", \"#FF6692\", \"#B6E880\", \"#FF97FF\", \"#FECB52\"], \"font\": {\"color\": \"#2a3f5f\"}, \"geo\": {\"bgcolor\": \"white\", \"lakecolor\": \"white\", \"landcolor\": \"#E5ECF6\", \"showlakes\": true, \"showland\": true, \"subunitcolor\": \"white\"}, \"hoverlabel\": {\"align\": \"left\"}, \"hovermode\": \"closest\", \"mapbox\": {\"style\": \"light\"}, \"paper_bgcolor\": \"white\", \"plot_bgcolor\": \"#E5ECF6\", \"polar\": {\"angularaxis\": {\"gridcolor\": \"white\", \"linecolor\": \"white\", \"ticks\": \"\"}, \"bgcolor\": \"#E5ECF6\", \"radialaxis\": {\"gridcolor\": \"white\", \"linecolor\": \"white\", \"ticks\": \"\"}}, \"scene\": {\"xaxis\": {\"backgroundcolor\": \"#E5ECF6\", \"gridcolor\": \"white\", \"gridwidth\": 2, \"linecolor\": \"white\", \"showbackground\": true, \"ticks\": \"\", \"zerolinecolor\": \"white\"}, \"yaxis\": {\"backgroundcolor\": \"#E5ECF6\", \"gridcolor\": \"white\", \"gridwidth\": 2, \"linecolor\": \"white\", \"showbackground\": true, \"ticks\": \"\", \"zerolinecolor\": \"white\"}, \"zaxis\": {\"backgroundcolor\": \"#E5ECF6\", \"gridcolor\": \"white\", \"gridwidth\": 2, \"linecolor\": \"white\", \"showbackground\": true, \"ticks\": \"\", \"zerolinecolor\": \"white\"}}, \"shapedefaults\": {\"line\": {\"color\": \"#2a3f5f\"}}, \"ternary\": {\"aaxis\": {\"gridcolor\": \"white\", \"linecolor\": \"white\", \"ticks\": \"\"}, \"baxis\": {\"gridcolor\": \"white\", \"linecolor\": \"white\", \"ticks\": \"\"}, \"bgcolor\": \"#E5ECF6\", \"caxis\": {\"gridcolor\": \"white\", \"linecolor\": \"white\", \"ticks\": \"\"}}, \"title\": {\"x\": 0.05}, \"xaxis\": {\"automargin\": true, \"gridcolor\": \"white\", \"linecolor\": \"white\", \"ticks\": \"\", \"title\": {\"standoff\": 15}, \"zerolinecolor\": \"white\", \"zerolinewidth\": 2}, \"yaxis\": {\"automargin\": true, \"gridcolor\": \"white\", \"linecolor\": \"white\", \"ticks\": \"\", \"title\": {\"standoff\": 15}, \"zerolinecolor\": \"white\", \"zerolinewidth\": 2}}}, \"xaxis\": {\"title\": {\"text\": \"X\"}}, \"yaxis\": {\"title\": {\"text\": \"Y\"}}},\n",
              "                        {\"responsive\": true}\n",
              "                    ).then(function(){\n",
              "                            \n",
              "var gd = document.getElementById('8bda3e33-ce1f-4ebd-9500-ce0a9f650b43');\n",
              "var x = new MutationObserver(function (mutations, observer) {{\n",
              "        var display = window.getComputedStyle(gd).display;\n",
              "        if (!display || display === 'none') {{\n",
              "            console.log([gd, 'removed!']);\n",
              "            Plotly.purge(gd);\n",
              "            observer.disconnect();\n",
              "        }}\n",
              "}});\n",
              "\n",
              "// Listen for the removal of the full notebook cells\n",
              "var notebookContainer = gd.closest('#notebook-container');\n",
              "if (notebookContainer) {{\n",
              "    x.observe(notebookContainer, {childList: true});\n",
              "}}\n",
              "\n",
              "// Listen for the clearing of the current output cell\n",
              "var outputEl = gd.closest('.output');\n",
              "if (outputEl) {{\n",
              "    x.observe(outputEl, {childList: true});\n",
              "}}\n",
              "\n",
              "                        })\n",
              "                };\n",
              "                \n",
              "            </script>\n",
              "        </div>\n",
              "</body>\n",
              "</html>"
            ]
          },
          "metadata": {}
        },
        {
          "output_type": "execute_result",
          "data": {
            "application/vnd.google.colaboratory.intrinsic+json": {
              "type": "string"
            },
            "text/plain": [
              "' luego en el caso de collab puedes descaragr el html o usar el\\n    el codigo que esta abajo que se le pega la ruta de acceso y te muestra el HTMl'"
            ]
          },
          "metadata": {},
          "execution_count": 15
        }
      ]
    },
    {
      "cell_type": "code",
      "metadata": {
        "colab": {
          "base_uri": "https://localhost:8080/",
          "height": 1000
        },
        "id": "0iwy4HiXG0Qs",
        "outputId": "88264baf-da0c-4ca8-e30f-a92ddef0e960"
      },
      "source": [
        "from IPython.core.display import display, HTML\n",
        "HTML(filename=\"/content/Asimetrix.html\")"
      ],
      "execution_count": null,
      "outputs": [
        {
          "output_type": "execute_result",
          "data": {
            "text/html": [
              "\n",
              "<html>\n",
              "    <head>\n",
              "        <link rel=\"shortcut icon\" href=\"http://www.iconj.com/ico/p/1/p14r1u145y.ico\" type=\"image/x-icon\" />\n",
              "        <script src=\"https://cdn.plot.ly/plotly-latest.min.js\"></script>\n",
              "        <link rel=\"stylesheet\" href=\"https://maxcdn.bootstrapcdn.com/bootstrap/3.3.1/css/bootstrap.min.css\">\n",
              "        <style type=\"text/css\">\n",
              "            h3 {text-align: left;font-family: Helvetica Neue;}\n",
              "            h4 {text-align: left;font-family: Helvetica Neue;}\n",
              "            h5 {text-align: left;font-family: Helvetica Neue; color: gray; }\n",
              "            h6 {text-align: center;font-family: Helvetica Neue; color: gray; }\n",
              "            table { margin-left: auto;margin-right: auto;width=20%}\n",
              "            table, th, td {border: 1px solid black;border-collapse: collapse;}\n",
              "            th, td {padding: 5px;text-align: center;font-family: Helvetica Neue;font-size: 90%;}\n",
              "            table tbody tr:hover {background-color: #dddddd;}\n",
              "            .wide {width: 90%; }\n",
              "            .text{margin-left: 5%;margin-right: 5%;}\n",
              "            .container{padding-bottom:3%;}\n",
              "            .title{text-align: center;font-family: Helvetica Neue;}\n",
              "            \n",
              "        </style>\n",
              "    </head>\n",
              "    <body style=\"margin-left:12%;margin-right:12%;margin-top:3%;margin-bottom:3%;padding-left:3%;padding-right:3%;padding-top:3%;\n",
              "    box-shadow: 0 5px 9px 0 rgba(0, 0, 0, 0.5), 0 6px 20px 0 rgba(0, 0, 0, 0.19);border-radius:10px\">\n",
              "    <img src=\"https://asimetrixassets.s3.amazonaws.com/logo_asimetrix_resalta.png\" alt=\"asimetrix-full\" alt=\"Asimetrix\" width=\"50%\"><div class=\"container\"><h2 class=title><strong> Asimetrix </strong></h2>\n",
              "<h4 class=title><strong> Reporte August 2021 </strong></h4>\n",
              "<div class=\"container\"></div><div>\n",
              "        \n",
              "        \n",
              "            <div id=\"4550c0b2-0cde-460a-ba1a-9557294ff4c8\" class=\"plotly-graph-div\" style=\"height:100%; width:100%;\"></div>\n",
              "            <script type=\"text/javascript\">\n",
              "                \n",
              "                    window.PLOTLYENV=window.PLOTLYENV || {};\n",
              "                    \n",
              "                if (document.getElementById(\"4550c0b2-0cde-460a-ba1a-9557294ff4c8\")) {\n",
              "                    Plotly.newPlot(\n",
              "                        '4550c0b2-0cde-460a-ba1a-9557294ff4c8',\n",
              "                        [{\"line\": {\"color\": \"firebrick\", \"width\": 4}, \"name\": \"Linea\", \"type\": \"scatter\", \"x\": [0, 1, 2, 3, 4, 5, 6, 7, 8, 9], \"y\": [0, 1, 4, 9, 16, 25, 36, 49, 64, 81]}],\n",
              "                        {\"template\": {\"data\": {\"bar\": [{\"error_x\": {\"color\": \"#2a3f5f\"}, \"error_y\": {\"color\": \"#2a3f5f\"}, \"marker\": {\"line\": {\"color\": \"#E5ECF6\", \"width\": 0.5}}, \"type\": \"bar\"}], \"barpolar\": [{\"marker\": {\"line\": {\"color\": \"#E5ECF6\", \"width\": 0.5}}, \"type\": \"barpolar\"}], \"carpet\": [{\"aaxis\": {\"endlinecolor\": \"#2a3f5f\", \"gridcolor\": \"white\", \"linecolor\": \"white\", \"minorgridcolor\": \"white\", \"startlinecolor\": \"#2a3f5f\"}, \"baxis\": {\"endlinecolor\": \"#2a3f5f\", \"gridcolor\": \"white\", \"linecolor\": \"white\", \"minorgridcolor\": \"white\", \"startlinecolor\": \"#2a3f5f\"}, \"type\": \"carpet\"}], \"choropleth\": [{\"colorbar\": {\"outlinewidth\": 0, \"ticks\": \"\"}, \"type\": \"choropleth\"}], \"contour\": [{\"colorbar\": {\"outlinewidth\": 0, \"ticks\": \"\"}, \"colorscale\": [[0.0, \"#0d0887\"], [0.1111111111111111, \"#46039f\"], [0.2222222222222222, \"#7201a8\"], [0.3333333333333333, \"#9c179e\"], [0.4444444444444444, \"#bd3786\"], [0.5555555555555556, \"#d8576b\"], [0.6666666666666666, \"#ed7953\"], [0.7777777777777778, \"#fb9f3a\"], [0.8888888888888888, \"#fdca26\"], [1.0, \"#f0f921\"]], \"type\": \"contour\"}], \"contourcarpet\": [{\"colorbar\": {\"outlinewidth\": 0, \"ticks\": \"\"}, \"type\": \"contourcarpet\"}], \"heatmap\": [{\"colorbar\": {\"outlinewidth\": 0, \"ticks\": \"\"}, \"colorscale\": [[0.0, \"#0d0887\"], [0.1111111111111111, \"#46039f\"], [0.2222222222222222, \"#7201a8\"], [0.3333333333333333, \"#9c179e\"], [0.4444444444444444, \"#bd3786\"], [0.5555555555555556, \"#d8576b\"], [0.6666666666666666, \"#ed7953\"], [0.7777777777777778, \"#fb9f3a\"], [0.8888888888888888, \"#fdca26\"], [1.0, \"#f0f921\"]], \"type\": \"heatmap\"}], \"heatmapgl\": [{\"colorbar\": {\"outlinewidth\": 0, \"ticks\": \"\"}, \"colorscale\": [[0.0, \"#0d0887\"], [0.1111111111111111, \"#46039f\"], [0.2222222222222222, \"#7201a8\"], [0.3333333333333333, \"#9c179e\"], [0.4444444444444444, \"#bd3786\"], [0.5555555555555556, \"#d8576b\"], [0.6666666666666666, \"#ed7953\"], [0.7777777777777778, \"#fb9f3a\"], [0.8888888888888888, \"#fdca26\"], [1.0, \"#f0f921\"]], \"type\": \"heatmapgl\"}], \"histogram\": [{\"marker\": {\"colorbar\": {\"outlinewidth\": 0, \"ticks\": \"\"}}, \"type\": \"histogram\"}], \"histogram2d\": [{\"colorbar\": {\"outlinewidth\": 0, \"ticks\": \"\"}, \"colorscale\": [[0.0, \"#0d0887\"], [0.1111111111111111, \"#46039f\"], [0.2222222222222222, \"#7201a8\"], [0.3333333333333333, \"#9c179e\"], [0.4444444444444444, \"#bd3786\"], [0.5555555555555556, \"#d8576b\"], [0.6666666666666666, \"#ed7953\"], [0.7777777777777778, \"#fb9f3a\"], [0.8888888888888888, \"#fdca26\"], [1.0, \"#f0f921\"]], \"type\": \"histogram2d\"}], \"histogram2dcontour\": [{\"colorbar\": {\"outlinewidth\": 0, \"ticks\": \"\"}, \"colorscale\": [[0.0, \"#0d0887\"], [0.1111111111111111, \"#46039f\"], [0.2222222222222222, \"#7201a8\"], [0.3333333333333333, \"#9c179e\"], [0.4444444444444444, \"#bd3786\"], [0.5555555555555556, \"#d8576b\"], [0.6666666666666666, \"#ed7953\"], [0.7777777777777778, \"#fb9f3a\"], [0.8888888888888888, \"#fdca26\"], [1.0, \"#f0f921\"]], \"type\": \"histogram2dcontour\"}], \"mesh3d\": [{\"colorbar\": {\"outlinewidth\": 0, \"ticks\": \"\"}, \"type\": \"mesh3d\"}], \"parcoords\": [{\"line\": {\"colorbar\": {\"outlinewidth\": 0, \"ticks\": \"\"}}, \"type\": \"parcoords\"}], \"pie\": [{\"automargin\": true, \"type\": \"pie\"}], \"scatter\": [{\"marker\": {\"colorbar\": {\"outlinewidth\": 0, \"ticks\": \"\"}}, \"type\": \"scatter\"}], \"scatter3d\": [{\"line\": {\"colorbar\": {\"outlinewidth\": 0, \"ticks\": \"\"}}, \"marker\": {\"colorbar\": {\"outlinewidth\": 0, \"ticks\": \"\"}}, \"type\": \"scatter3d\"}], \"scattercarpet\": [{\"marker\": {\"colorbar\": {\"outlinewidth\": 0, \"ticks\": \"\"}}, \"type\": \"scattercarpet\"}], \"scattergeo\": [{\"marker\": {\"colorbar\": {\"outlinewidth\": 0, \"ticks\": \"\"}}, \"type\": \"scattergeo\"}], \"scattergl\": [{\"marker\": {\"colorbar\": {\"outlinewidth\": 0, \"ticks\": \"\"}}, \"type\": \"scattergl\"}], \"scattermapbox\": [{\"marker\": {\"colorbar\": {\"outlinewidth\": 0, \"ticks\": \"\"}}, \"type\": \"scattermapbox\"}], \"scatterpolar\": [{\"marker\": {\"colorbar\": {\"outlinewidth\": 0, \"ticks\": \"\"}}, \"type\": \"scatterpolar\"}], \"scatterpolargl\": [{\"marker\": {\"colorbar\": {\"outlinewidth\": 0, \"ticks\": \"\"}}, \"type\": \"scatterpolargl\"}], \"scatterternary\": [{\"marker\": {\"colorbar\": {\"outlinewidth\": 0, \"ticks\": \"\"}}, \"type\": \"scatterternary\"}], \"surface\": [{\"colorbar\": {\"outlinewidth\": 0, \"ticks\": \"\"}, \"colorscale\": [[0.0, \"#0d0887\"], [0.1111111111111111, \"#46039f\"], [0.2222222222222222, \"#7201a8\"], [0.3333333333333333, \"#9c179e\"], [0.4444444444444444, \"#bd3786\"], [0.5555555555555556, \"#d8576b\"], [0.6666666666666666, \"#ed7953\"], [0.7777777777777778, \"#fb9f3a\"], [0.8888888888888888, \"#fdca26\"], [1.0, \"#f0f921\"]], \"type\": \"surface\"}], \"table\": [{\"cells\": {\"fill\": {\"color\": \"#EBF0F8\"}, \"line\": {\"color\": \"white\"}}, \"header\": {\"fill\": {\"color\": \"#C8D4E3\"}, \"line\": {\"color\": \"white\"}}, \"type\": \"table\"}]}, \"layout\": {\"annotationdefaults\": {\"arrowcolor\": \"#2a3f5f\", \"arrowhead\": 0, \"arrowwidth\": 1}, \"coloraxis\": {\"colorbar\": {\"outlinewidth\": 0, \"ticks\": \"\"}}, \"colorscale\": {\"diverging\": [[0, \"#8e0152\"], [0.1, \"#c51b7d\"], [0.2, \"#de77ae\"], [0.3, \"#f1b6da\"], [0.4, \"#fde0ef\"], [0.5, \"#f7f7f7\"], [0.6, \"#e6f5d0\"], [0.7, \"#b8e186\"], [0.8, \"#7fbc41\"], [0.9, \"#4d9221\"], [1, \"#276419\"]], \"sequential\": [[0.0, \"#0d0887\"], [0.1111111111111111, \"#46039f\"], [0.2222222222222222, \"#7201a8\"], [0.3333333333333333, \"#9c179e\"], [0.4444444444444444, \"#bd3786\"], [0.5555555555555556, \"#d8576b\"], [0.6666666666666666, \"#ed7953\"], [0.7777777777777778, \"#fb9f3a\"], [0.8888888888888888, \"#fdca26\"], [1.0, \"#f0f921\"]], \"sequentialminus\": [[0.0, \"#0d0887\"], [0.1111111111111111, \"#46039f\"], [0.2222222222222222, \"#7201a8\"], [0.3333333333333333, \"#9c179e\"], [0.4444444444444444, \"#bd3786\"], [0.5555555555555556, \"#d8576b\"], [0.6666666666666666, \"#ed7953\"], [0.7777777777777778, \"#fb9f3a\"], [0.8888888888888888, \"#fdca26\"], [1.0, \"#f0f921\"]]}, \"colorway\": [\"#636efa\", \"#EF553B\", \"#00cc96\", \"#ab63fa\", \"#FFA15A\", \"#19d3f3\", \"#FF6692\", \"#B6E880\", \"#FF97FF\", \"#FECB52\"], \"font\": {\"color\": \"#2a3f5f\"}, \"geo\": {\"bgcolor\": \"white\", \"lakecolor\": \"white\", \"landcolor\": \"#E5ECF6\", \"showlakes\": true, \"showland\": true, \"subunitcolor\": \"white\"}, \"hoverlabel\": {\"align\": \"left\"}, \"hovermode\": \"closest\", \"mapbox\": {\"style\": \"light\"}, \"paper_bgcolor\": \"white\", \"plot_bgcolor\": \"#E5ECF6\", \"polar\": {\"angularaxis\": {\"gridcolor\": \"white\", \"linecolor\": \"white\", \"ticks\": \"\"}, \"bgcolor\": \"#E5ECF6\", \"radialaxis\": {\"gridcolor\": \"white\", \"linecolor\": \"white\", \"ticks\": \"\"}}, \"scene\": {\"xaxis\": {\"backgroundcolor\": \"#E5ECF6\", \"gridcolor\": \"white\", \"gridwidth\": 2, \"linecolor\": \"white\", \"showbackground\": true, \"ticks\": \"\", \"zerolinecolor\": \"white\"}, \"yaxis\": {\"backgroundcolor\": \"#E5ECF6\", \"gridcolor\": \"white\", \"gridwidth\": 2, \"linecolor\": \"white\", \"showbackground\": true, \"ticks\": \"\", \"zerolinecolor\": \"white\"}, \"zaxis\": {\"backgroundcolor\": \"#E5ECF6\", \"gridcolor\": \"white\", \"gridwidth\": 2, \"linecolor\": \"white\", \"showbackground\": true, \"ticks\": \"\", \"zerolinecolor\": \"white\"}}, \"shapedefaults\": {\"line\": {\"color\": \"#2a3f5f\"}}, \"ternary\": {\"aaxis\": {\"gridcolor\": \"white\", \"linecolor\": \"white\", \"ticks\": \"\"}, \"baxis\": {\"gridcolor\": \"white\", \"linecolor\": \"white\", \"ticks\": \"\"}, \"bgcolor\": \"#E5ECF6\", \"caxis\": {\"gridcolor\": \"white\", \"linecolor\": \"white\", \"ticks\": \"\"}}, \"title\": {\"x\": 0.05}, \"xaxis\": {\"automargin\": true, \"gridcolor\": \"white\", \"linecolor\": \"white\", \"ticks\": \"\", \"title\": {\"standoff\": 15}, \"zerolinecolor\": \"white\", \"zerolinewidth\": 2}, \"yaxis\": {\"automargin\": true, \"gridcolor\": \"white\", \"linecolor\": \"white\", \"ticks\": \"\", \"title\": {\"standoff\": 15}, \"zerolinecolor\": \"white\", \"zerolinewidth\": 2}}}, \"title\": {\"text\": \"Grafica Prueba\"}, \"xaxis\": {\"title\": {\"text\": \"X\"}}, \"yaxis\": {\"title\": {\"text\": \"Y\"}}},\n",
              "                        {\"displayModeBar\": false, \"responsive\": true}\n",
              "                    )\n",
              "                };\n",
              "                \n",
              "            </script>\n",
              "        </div></div><h3><strong> Grafica Prueba </strong></h3>\n",
              "<div>\n",
              "        \n",
              "        \n",
              "            <div id=\"4e432672-68b2-4ff3-bf0e-d1d7b34fe243\" class=\"plotly-graph-div\" style=\"height:100%; width:100%;\"></div>\n",
              "            <script type=\"text/javascript\">\n",
              "                \n",
              "                    window.PLOTLYENV=window.PLOTLYENV || {};\n",
              "                    \n",
              "                if (document.getElementById(\"4e432672-68b2-4ff3-bf0e-d1d7b34fe243\")) {\n",
              "                    Plotly.newPlot(\n",
              "                        '4e432672-68b2-4ff3-bf0e-d1d7b34fe243',\n",
              "                        [{\"line\": {\"color\": \"firebrick\", \"width\": 4}, \"name\": \"Linea\", \"type\": \"scatter\", \"x\": [0, 1, 2, 3, 4, 5, 6, 7, 8, 9], \"y\": [0, 1, 8, 27, 64, 125, 216, 343, 512, 729]}],\n",
              "                        {\"template\": {\"data\": {\"bar\": [{\"error_x\": {\"color\": \"#2a3f5f\"}, \"error_y\": {\"color\": \"#2a3f5f\"}, \"marker\": {\"line\": {\"color\": \"#E5ECF6\", \"width\": 0.5}}, \"type\": \"bar\"}], \"barpolar\": [{\"marker\": {\"line\": {\"color\": \"#E5ECF6\", \"width\": 0.5}}, \"type\": \"barpolar\"}], \"carpet\": [{\"aaxis\": {\"endlinecolor\": \"#2a3f5f\", \"gridcolor\": \"white\", \"linecolor\": \"white\", \"minorgridcolor\": \"white\", \"startlinecolor\": \"#2a3f5f\"}, \"baxis\": {\"endlinecolor\": \"#2a3f5f\", \"gridcolor\": \"white\", \"linecolor\": \"white\", \"minorgridcolor\": \"white\", \"startlinecolor\": \"#2a3f5f\"}, \"type\": \"carpet\"}], \"choropleth\": [{\"colorbar\": {\"outlinewidth\": 0, \"ticks\": \"\"}, \"type\": \"choropleth\"}], \"contour\": [{\"colorbar\": {\"outlinewidth\": 0, \"ticks\": \"\"}, \"colorscale\": [[0.0, \"#0d0887\"], [0.1111111111111111, \"#46039f\"], [0.2222222222222222, \"#7201a8\"], [0.3333333333333333, \"#9c179e\"], [0.4444444444444444, \"#bd3786\"], [0.5555555555555556, \"#d8576b\"], [0.6666666666666666, \"#ed7953\"], [0.7777777777777778, \"#fb9f3a\"], [0.8888888888888888, \"#fdca26\"], [1.0, \"#f0f921\"]], \"type\": \"contour\"}], \"contourcarpet\": [{\"colorbar\": {\"outlinewidth\": 0, \"ticks\": \"\"}, \"type\": \"contourcarpet\"}], \"heatmap\": [{\"colorbar\": {\"outlinewidth\": 0, \"ticks\": \"\"}, \"colorscale\": [[0.0, \"#0d0887\"], [0.1111111111111111, \"#46039f\"], [0.2222222222222222, \"#7201a8\"], [0.3333333333333333, \"#9c179e\"], [0.4444444444444444, \"#bd3786\"], [0.5555555555555556, \"#d8576b\"], [0.6666666666666666, \"#ed7953\"], [0.7777777777777778, \"#fb9f3a\"], [0.8888888888888888, \"#fdca26\"], [1.0, \"#f0f921\"]], \"type\": \"heatmap\"}], \"heatmapgl\": [{\"colorbar\": {\"outlinewidth\": 0, \"ticks\": \"\"}, \"colorscale\": [[0.0, \"#0d0887\"], [0.1111111111111111, \"#46039f\"], [0.2222222222222222, \"#7201a8\"], [0.3333333333333333, \"#9c179e\"], [0.4444444444444444, \"#bd3786\"], [0.5555555555555556, \"#d8576b\"], [0.6666666666666666, \"#ed7953\"], [0.7777777777777778, \"#fb9f3a\"], [0.8888888888888888, \"#fdca26\"], [1.0, \"#f0f921\"]], \"type\": \"heatmapgl\"}], \"histogram\": [{\"marker\": {\"colorbar\": {\"outlinewidth\": 0, \"ticks\": \"\"}}, \"type\": \"histogram\"}], \"histogram2d\": [{\"colorbar\": {\"outlinewidth\": 0, \"ticks\": \"\"}, \"colorscale\": [[0.0, \"#0d0887\"], [0.1111111111111111, \"#46039f\"], [0.2222222222222222, \"#7201a8\"], [0.3333333333333333, \"#9c179e\"], [0.4444444444444444, \"#bd3786\"], [0.5555555555555556, \"#d8576b\"], [0.6666666666666666, \"#ed7953\"], [0.7777777777777778, \"#fb9f3a\"], [0.8888888888888888, \"#fdca26\"], [1.0, \"#f0f921\"]], \"type\": \"histogram2d\"}], \"histogram2dcontour\": [{\"colorbar\": {\"outlinewidth\": 0, \"ticks\": \"\"}, \"colorscale\": [[0.0, \"#0d0887\"], [0.1111111111111111, \"#46039f\"], [0.2222222222222222, \"#7201a8\"], [0.3333333333333333, \"#9c179e\"], [0.4444444444444444, \"#bd3786\"], [0.5555555555555556, \"#d8576b\"], [0.6666666666666666, \"#ed7953\"], [0.7777777777777778, \"#fb9f3a\"], [0.8888888888888888, \"#fdca26\"], [1.0, \"#f0f921\"]], \"type\": \"histogram2dcontour\"}], \"mesh3d\": [{\"colorbar\": {\"outlinewidth\": 0, \"ticks\": \"\"}, \"type\": \"mesh3d\"}], \"parcoords\": [{\"line\": {\"colorbar\": {\"outlinewidth\": 0, \"ticks\": \"\"}}, \"type\": \"parcoords\"}], \"pie\": [{\"automargin\": true, \"type\": \"pie\"}], \"scatter\": [{\"marker\": {\"colorbar\": {\"outlinewidth\": 0, \"ticks\": \"\"}}, \"type\": \"scatter\"}], \"scatter3d\": [{\"line\": {\"colorbar\": {\"outlinewidth\": 0, \"ticks\": \"\"}}, \"marker\": {\"colorbar\": {\"outlinewidth\": 0, \"ticks\": \"\"}}, \"type\": \"scatter3d\"}], \"scattercarpet\": [{\"marker\": {\"colorbar\": {\"outlinewidth\": 0, \"ticks\": \"\"}}, \"type\": \"scattercarpet\"}], \"scattergeo\": [{\"marker\": {\"colorbar\": {\"outlinewidth\": 0, \"ticks\": \"\"}}, \"type\": \"scattergeo\"}], \"scattergl\": [{\"marker\": {\"colorbar\": {\"outlinewidth\": 0, \"ticks\": \"\"}}, \"type\": \"scattergl\"}], \"scattermapbox\": [{\"marker\": {\"colorbar\": {\"outlinewidth\": 0, \"ticks\": \"\"}}, \"type\": \"scattermapbox\"}], \"scatterpolar\": [{\"marker\": {\"colorbar\": {\"outlinewidth\": 0, \"ticks\": \"\"}}, \"type\": \"scatterpolar\"}], \"scatterpolargl\": [{\"marker\": {\"colorbar\": {\"outlinewidth\": 0, \"ticks\": \"\"}}, \"type\": \"scatterpolargl\"}], \"scatterternary\": [{\"marker\": {\"colorbar\": {\"outlinewidth\": 0, \"ticks\": \"\"}}, \"type\": \"scatterternary\"}], \"surface\": [{\"colorbar\": {\"outlinewidth\": 0, \"ticks\": \"\"}, \"colorscale\": [[0.0, \"#0d0887\"], [0.1111111111111111, \"#46039f\"], [0.2222222222222222, \"#7201a8\"], [0.3333333333333333, \"#9c179e\"], [0.4444444444444444, \"#bd3786\"], [0.5555555555555556, \"#d8576b\"], [0.6666666666666666, \"#ed7953\"], [0.7777777777777778, \"#fb9f3a\"], [0.8888888888888888, \"#fdca26\"], [1.0, \"#f0f921\"]], \"type\": \"surface\"}], \"table\": [{\"cells\": {\"fill\": {\"color\": \"#EBF0F8\"}, \"line\": {\"color\": \"white\"}}, \"header\": {\"fill\": {\"color\": \"#C8D4E3\"}, \"line\": {\"color\": \"white\"}}, \"type\": \"table\"}]}, \"layout\": {\"annotationdefaults\": {\"arrowcolor\": \"#2a3f5f\", \"arrowhead\": 0, \"arrowwidth\": 1}, \"coloraxis\": {\"colorbar\": {\"outlinewidth\": 0, \"ticks\": \"\"}}, \"colorscale\": {\"diverging\": [[0, \"#8e0152\"], [0.1, \"#c51b7d\"], [0.2, \"#de77ae\"], [0.3, \"#f1b6da\"], [0.4, \"#fde0ef\"], [0.5, \"#f7f7f7\"], [0.6, \"#e6f5d0\"], [0.7, \"#b8e186\"], [0.8, \"#7fbc41\"], [0.9, \"#4d9221\"], [1, \"#276419\"]], \"sequential\": [[0.0, \"#0d0887\"], [0.1111111111111111, \"#46039f\"], [0.2222222222222222, \"#7201a8\"], [0.3333333333333333, \"#9c179e\"], [0.4444444444444444, \"#bd3786\"], [0.5555555555555556, \"#d8576b\"], [0.6666666666666666, \"#ed7953\"], [0.7777777777777778, \"#fb9f3a\"], [0.8888888888888888, \"#fdca26\"], [1.0, \"#f0f921\"]], \"sequentialminus\": [[0.0, \"#0d0887\"], [0.1111111111111111, \"#46039f\"], [0.2222222222222222, \"#7201a8\"], [0.3333333333333333, \"#9c179e\"], [0.4444444444444444, \"#bd3786\"], [0.5555555555555556, \"#d8576b\"], [0.6666666666666666, \"#ed7953\"], [0.7777777777777778, \"#fb9f3a\"], [0.8888888888888888, \"#fdca26\"], [1.0, \"#f0f921\"]]}, \"colorway\": [\"#636efa\", \"#EF553B\", \"#00cc96\", \"#ab63fa\", \"#FFA15A\", \"#19d3f3\", \"#FF6692\", \"#B6E880\", \"#FF97FF\", \"#FECB52\"], \"font\": {\"color\": \"#2a3f5f\"}, \"geo\": {\"bgcolor\": \"white\", \"lakecolor\": \"white\", \"landcolor\": \"#E5ECF6\", \"showlakes\": true, \"showland\": true, \"subunitcolor\": \"white\"}, \"hoverlabel\": {\"align\": \"left\"}, \"hovermode\": \"closest\", \"mapbox\": {\"style\": \"light\"}, \"paper_bgcolor\": \"white\", \"plot_bgcolor\": \"#E5ECF6\", \"polar\": {\"angularaxis\": {\"gridcolor\": \"white\", \"linecolor\": \"white\", \"ticks\": \"\"}, \"bgcolor\": \"#E5ECF6\", \"radialaxis\": {\"gridcolor\": \"white\", \"linecolor\": \"white\", \"ticks\": \"\"}}, \"scene\": {\"xaxis\": {\"backgroundcolor\": \"#E5ECF6\", \"gridcolor\": \"white\", \"gridwidth\": 2, \"linecolor\": \"white\", \"showbackground\": true, \"ticks\": \"\", \"zerolinecolor\": \"white\"}, \"yaxis\": {\"backgroundcolor\": \"#E5ECF6\", \"gridcolor\": \"white\", \"gridwidth\": 2, \"linecolor\": \"white\", \"showbackground\": true, \"ticks\": \"\", \"zerolinecolor\": \"white\"}, \"zaxis\": {\"backgroundcolor\": \"#E5ECF6\", \"gridcolor\": \"white\", \"gridwidth\": 2, \"linecolor\": \"white\", \"showbackground\": true, \"ticks\": \"\", \"zerolinecolor\": \"white\"}}, \"shapedefaults\": {\"line\": {\"color\": \"#2a3f5f\"}}, \"ternary\": {\"aaxis\": {\"gridcolor\": \"white\", \"linecolor\": \"white\", \"ticks\": \"\"}, \"baxis\": {\"gridcolor\": \"white\", \"linecolor\": \"white\", \"ticks\": \"\"}, \"bgcolor\": \"#E5ECF6\", \"caxis\": {\"gridcolor\": \"white\", \"linecolor\": \"white\", \"ticks\": \"\"}}, \"title\": {\"x\": 0.05}, \"xaxis\": {\"automargin\": true, \"gridcolor\": \"white\", \"linecolor\": \"white\", \"ticks\": \"\", \"title\": {\"standoff\": 15}, \"zerolinecolor\": \"white\", \"zerolinewidth\": 2}, \"yaxis\": {\"automargin\": true, \"gridcolor\": \"white\", \"linecolor\": \"white\", \"ticks\": \"\", \"title\": {\"standoff\": 15}, \"zerolinecolor\": \"white\", \"zerolinewidth\": 2}}}, \"xaxis\": {\"title\": {\"text\": \"X\"}}, \"yaxis\": {\"title\": {\"text\": \"Y\"}}},\n",
              "                        {\"displayModeBar\": false, \"responsive\": true}\n",
              "                    )\n",
              "                };\n",
              "                \n",
              "            </script>\n",
              "        </div></div><div style=\"text-align: left\"><div style=\"text-align: center\"><img src=\"https://asimetrixassets.s3.amazonaws.com/logo_asimetrix_resalta.png\" class=\"center\" style=\"width:40%\"><h6 class=title><strong> www.asimetrix.co </strong></h4>\n",
              "<div class=\"container\">\n",
              "    </body>\n",
              "</html>\n"
            ],
            "text/plain": [
              "<IPython.core.display.HTML object>"
            ]
          },
          "metadata": {},
          "execution_count": 17
        }
      ]
    },
    {
      "cell_type": "code",
      "metadata": {
        "id": "vL7VbfYrad7E"
      },
      "source": [
        ""
      ],
      "execution_count": null,
      "outputs": []
    }
  ]
}